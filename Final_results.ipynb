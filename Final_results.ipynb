{
 "cells": [
  {
   "cell_type": "markdown",
   "metadata": {
    "colab_type": "text",
    "id": "0dhob3lPspfQ"
   },
   "source": [
    "## Loading Data"
   ]
  },
  {
   "cell_type": "code",
   "execution_count": 0,
   "metadata": {
    "colab": {},
    "colab_type": "code",
    "id": "naZw7WwkspfV"
   },
   "outputs": [],
   "source": [
    "import os\n",
    "import uuid \n",
    "import pandas as pd\n",
    "import numpy as np\n",
    "import matplotlib.pyplot as plt\n",
    "import xgboost as xgb\n",
    "from sklearn.metrics import mean_squared_error\n",
    "from sklearn.linear_model import LinearRegression\n",
    "from sklearn.multioutput import MultiOutputRegressor\n",
    "from sklearn.cluster import MiniBatchKMeans\n",
    "from sklearn.metrics import silhouette_score\n",
    "from sklearn.model_selection import train_test_split\n",
    "import warnings\n",
    "warnings. filterwarnings('ignore')"
   ]
  },
  {
   "cell_type": "code",
   "execution_count": 0,
   "metadata": {
    "colab": {
     "base_uri": "https://localhost:8080/",
     "height": 121
    },
    "colab_type": "code",
    "id": "1vTUin3LucXY",
    "outputId": "ef808a9d-2240-400b-f8dc-35f422a86eff"
   },
   "outputs": [
    {
     "name": "stdout",
     "output_type": "stream",
     "text": [
      "Go to this URL in a browser: https://accounts.google.com/o/oauth2/auth?client_id=947318989803-6bn6qk8qdgf4n4g3pfee6491hc0brc4i.apps.googleusercontent.com&redirect_uri=urn%3aietf%3awg%3aoauth%3a2.0%3aoob&response_type=code&scope=email%20https%3a%2f%2fwww.googleapis.com%2fauth%2fdocs.test%20https%3a%2f%2fwww.googleapis.com%2fauth%2fdrive%20https%3a%2f%2fwww.googleapis.com%2fauth%2fdrive.photos.readonly%20https%3a%2f%2fwww.googleapis.com%2fauth%2fpeopleapi.readonly\n",
      "\n",
      "Enter your authorization code:\n",
      "··········\n",
      "Mounted at /content/drive\n"
     ]
    }
   ],
   "source": [
    "from google.colab import drive\n",
    "drive.mount('/content/drive')"
   ]
  },
  {
   "cell_type": "code",
   "execution_count": 0,
   "metadata": {
    "colab": {},
    "colab_type": "code",
    "id": "Jkyh0KLVspfb"
   },
   "outputs": [],
   "source": [
    "data_path = '/content/drive/My Drive/Colab Notebooks/cabspottingdata'\n",
    "txt_file_names = os.listdir(data_path)\n",
    "\n",
    "taxi_dfs = []\n",
    "\n",
    "for file_name in txt_file_names[:5]:\n",
    "    data = pd.read_csv(os.path.join(data_path, file_name), sep=' ', \n",
    "                   header=None, names = ['latitude', 'longitude', 'occupancy', 'time'])\n",
    "    data['time'] = pd.to_datetime(data['time'], unit='s')\n",
    "    data['taxi_id'] = file_name.split('.')[0]\n",
    "    taxi_dfs.append(data)\n"
   ]
  },
  {
   "cell_type": "code",
   "execution_count": 0,
   "metadata": {
    "colab": {},
    "colab_type": "code",
    "id": "jrnOhqND0lRz"
   },
   "outputs": [],
   "source": [
    "data = pd.concat(taxi_dfs, ignore_index=True)"
   ]
  },
  {
   "cell_type": "code",
   "execution_count": 0,
   "metadata": {
    "colab": {
     "base_uri": "https://localhost:8080/",
     "height": 34
    },
    "colab_type": "code",
    "id": "NUoLY-gispfh",
    "outputId": "302e88e9-b203-4582-e621-becaa4c93ce0"
   },
   "outputs": [
    {
     "data": {
      "text/plain": [
       "109759"
      ]
     },
     "execution_count": 6,
     "metadata": {
      "tags": []
     },
     "output_type": "execute_result"
    }
   ],
   "source": [
    "len(data)"
   ]
  },
  {
   "cell_type": "markdown",
   "metadata": {
    "colab_type": "text",
    "id": "OgzmRkKGspfm"
   },
   "source": [
    "## Preprocessing Data"
   ]
  },
  {
   "cell_type": "markdown",
   "metadata": {
    "colab_type": "text",
    "id": "rJLp4Ccqspfo"
   },
   "source": [
    "#### Calculation of Geographical Distance"
   ]
  },
  {
   "cell_type": "markdown",
   "metadata": {
    "colab_type": "text",
    "id": "0AX_sg0Lspfq"
   },
   "source": [
    "Previous work with GPS trace data and distances mostly\n",
    "considered Euclidian distance between two points. However,\n",
    "this calculation completely ignores the fact that the earth is\n",
    "round yielding incorrect results. Of all available methods Equi-rectangular approximation is preferred\n",
    "for faster system performance."
   ]
  },
  {
   "cell_type": "markdown",
   "metadata": {
    "colab_type": "text",
    "id": "JIIq0xUMspft"
   },
   "source": [
    "Equirectangular approximation\n",
    "Here, R is the radius of earth (6371 km)."
   ]
  },
  {
   "cell_type": "code",
   "execution_count": 0,
   "metadata": {
    "colab": {},
    "colab_type": "code",
    "id": "T0H4MuqPspfv"
   },
   "outputs": [],
   "source": [
    "EARTH_RADIUS = 6371  # km"
   ]
  },
  {
   "cell_type": "code",
   "execution_count": 0,
   "metadata": {
    "colab": {},
    "colab_type": "code",
    "id": "h1eUWS9cspf1"
   },
   "outputs": [],
   "source": [
    "prev_occupancy = data.iloc[0, data.columns.get_loc('occupancy')]\n",
    "prev_taxi_id = data.iloc[0, data.columns.get_loc('taxi_id')]\n",
    "trip_id = uuid.uuid4()\n",
    "data['trip_id'] = ''\n",
    "data['drop_off_latitude'] = ''\n",
    "data['drop_off_longitude'] = ''\n",
    "data['drop_off_time']  = ''\n",
    "for index, row in data.iterrows():\n",
    "    # generating trip id's for consecutive trips of with or without passenger\n",
    "    if row['occupancy'] != prev_occupancy or row['taxi_id'] != prev_taxi_id:\n",
    "        trip_id = uuid.uuid4()\n",
    "        data.iloc[index, data.columns.get_loc('trip_id')] = trip_id\n",
    "        data.iloc[index-1, data.columns.get_loc('drop_off_latitude')] = row['latitude']\n",
    "        data.iloc[index-1, data.columns.get_loc('drop_off_longitude')] = row['longitude']\n",
    "        data.iloc[index-1, data.columns.get_loc('drop_off_time')] = row['time']\n",
    "    else:\n",
    "        data.iloc[index, data.columns.get_loc('trip_id')] = trip_id\n",
    "    prev_occupancy, prev_taxi_id = row['occupancy'], row['taxi_id']\n",
    "data.iloc[-1, data.columns.get_loc('drop_off_latitude')] = data.iloc[-1, data.columns.get_loc('latitude')]\n",
    "data.iloc[-1, data.columns.get_loc('drop_off_longitude')] = data.iloc[-1, data.columns.get_loc('longitude')]\n",
    "data.iloc[-1, data.columns.get_loc('drop_off_time')] = data.iloc[-1, data.columns.get_loc('time')]"
   ]
  },
  {
   "cell_type": "code",
   "execution_count": 0,
   "metadata": {
    "colab": {
     "base_uri": "https://localhost:8080/",
     "height": 195
    },
    "colab_type": "code",
    "id": "zgDd0_-C_jgs",
    "outputId": "134772c1-6009-44d0-d5b1-ef54c7024d72"
   },
   "outputs": [
    {
     "data": {
      "text/html": [
       "<div>\n",
       "<style scoped>\n",
       "    .dataframe tbody tr th:only-of-type {\n",
       "        vertical-align: middle;\n",
       "    }\n",
       "\n",
       "    .dataframe tbody tr th {\n",
       "        vertical-align: top;\n",
       "    }\n",
       "\n",
       "    .dataframe thead th {\n",
       "        text-align: right;\n",
       "    }\n",
       "</style>\n",
       "<table border=\"1\" class=\"dataframe\">\n",
       "  <thead>\n",
       "    <tr style=\"text-align: right;\">\n",
       "      <th></th>\n",
       "      <th>latitude</th>\n",
       "      <th>longitude</th>\n",
       "      <th>occupancy</th>\n",
       "      <th>time</th>\n",
       "      <th>taxi_id</th>\n",
       "      <th>trip_id</th>\n",
       "    </tr>\n",
       "  </thead>\n",
       "  <tbody>\n",
       "    <tr>\n",
       "      <th>0</th>\n",
       "      <td>37.75153</td>\n",
       "      <td>-122.39447</td>\n",
       "      <td>0</td>\n",
       "      <td>2008-05-17 14:12:10</td>\n",
       "      <td>new_abboip</td>\n",
       "      <td>3bc085c8-feb5-476a-8f22-19560c0e1349</td>\n",
       "    </tr>\n",
       "    <tr>\n",
       "      <th>1</th>\n",
       "      <td>37.75149</td>\n",
       "      <td>-122.39447</td>\n",
       "      <td>0</td>\n",
       "      <td>2008-05-17 14:13:34</td>\n",
       "      <td>new_abboip</td>\n",
       "      <td>3bc085c8-feb5-476a-8f22-19560c0e1349</td>\n",
       "    </tr>\n",
       "    <tr>\n",
       "      <th>2</th>\n",
       "      <td>37.75149</td>\n",
       "      <td>-122.39447</td>\n",
       "      <td>0</td>\n",
       "      <td>2008-05-17 14:14:34</td>\n",
       "      <td>new_abboip</td>\n",
       "      <td>3bc085c8-feb5-476a-8f22-19560c0e1349</td>\n",
       "    </tr>\n",
       "    <tr>\n",
       "      <th>3</th>\n",
       "      <td>37.75149</td>\n",
       "      <td>-122.39446</td>\n",
       "      <td>0</td>\n",
       "      <td>2008-05-17 14:15:35</td>\n",
       "      <td>new_abboip</td>\n",
       "      <td>3bc085c8-feb5-476a-8f22-19560c0e1349</td>\n",
       "    </tr>\n",
       "    <tr>\n",
       "      <th>4</th>\n",
       "      <td>37.75144</td>\n",
       "      <td>-122.39449</td>\n",
       "      <td>0</td>\n",
       "      <td>2008-05-17 14:41:43</td>\n",
       "      <td>new_abboip</td>\n",
       "      <td>3bc085c8-feb5-476a-8f22-19560c0e1349</td>\n",
       "    </tr>\n",
       "  </tbody>\n",
       "</table>\n",
       "</div>"
      ],
      "text/plain": [
       "   latitude  longitude  ...     taxi_id                               trip_id\n",
       "0  37.75153 -122.39447  ...  new_abboip  3bc085c8-feb5-476a-8f22-19560c0e1349\n",
       "1  37.75149 -122.39447  ...  new_abboip  3bc085c8-feb5-476a-8f22-19560c0e1349\n",
       "2  37.75149 -122.39447  ...  new_abboip  3bc085c8-feb5-476a-8f22-19560c0e1349\n",
       "3  37.75149 -122.39446  ...  new_abboip  3bc085c8-feb5-476a-8f22-19560c0e1349\n",
       "4  37.75144 -122.39449  ...  new_abboip  3bc085c8-feb5-476a-8f22-19560c0e1349\n",
       "\n",
       "[5 rows x 6 columns]"
      ]
     },
     "execution_count": 9,
     "metadata": {
      "tags": []
     },
     "output_type": "execute_result"
    }
   ],
   "source": [
    "data.head()"
   ]
  },
  {
   "cell_type": "code",
   "execution_count": 0,
   "metadata": {
    "colab": {},
    "colab_type": "code",
    "id": "MraNUg5Ospf7"
   },
   "outputs": [],
   "source": [
    "# Aggregating functions\n",
    "\n",
    "def total_dist(group):\n",
    "    lat = np.radians(group.latitude)\n",
    "    lon = np.radians(group.longitude)\n",
    "    endLon = lon.shift(-1, fill_value=np.radians(group['drop_off_longitude'].iloc[-1]))\n",
    "    endLat = lat.shift(-1, fill_value=np.radians(group['drop_off_latitude'].iloc[-1]))\n",
    "    x = (endLon - lon) * np.cos(0.5 * (endLat + lat))\n",
    "    y = endLat - lat\n",
    "    D = EARTH_RADIUS * np.sqrt(x ** 2 + y ** 2)\n",
    "    return D.sum()\n",
    "\n",
    "def total_duration(group):\n",
    "    start_time = group['time']\n",
    "    end_time = start_time.shift(-1, fill_value=group['drop_off_time'].iloc[-1])\n",
    "    durations = (end_time - start_time).astype('timedelta64[s]')/60\n",
    "    return durations.sum()\n",
    "\n",
    "def first_record_of_column(group, column):\n",
    "    return group.iloc[0, group.columns.get_loc(column)]\n",
    "\n",
    "def last_record_of_column(group, column):\n",
    "    return group.iloc[-1, group.columns.get_loc(column)]\n",
    "\n",
    "def trip_statistics(trip):\n",
    "    return pd.Series({\"taxi_id\": first_record_of_column(trip, 'taxi_id'),\n",
    "                      \"distance\": total_dist(trip),\n",
    "                      \"duration\": total_duration(trip),\n",
    "                      \"start_longitude\": first_record_of_column(trip, 'longitude'),\n",
    "                      \"start_latitude\": first_record_of_column(trip, 'latitude'),\n",
    "                      \"end_longitude\": last_record_of_column(trip, 'longitude'),\n",
    "                      \"end_latitude\": last_record_of_column(trip, 'latitude'),\n",
    "                      \"occupancy\": first_record_of_column(trip, 'occupancy'),\n",
    "                      \"start_time\": first_record_of_column(trip, 'time'),\n",
    "                      \"end_time\": last_record_of_column(trip, 'time'),\n",
    "                      \"No. of Waypoints\": len(trip)})"
   ]
  },
  {
   "cell_type": "code",
   "execution_count": 0,
   "metadata": {
    "colab": {},
    "colab_type": "code",
    "id": "hdJ1Ew6AspgA"
   },
   "outputs": [],
   "source": [
    "aggregated_data = data.groupby(\"trip_id\").apply(trip_statistics)"
   ]
  },
  {
   "cell_type": "code",
   "execution_count": 0,
   "metadata": {
    "colab": {
     "base_uri": "https://localhost:8080/",
     "height": 286
    },
    "colab_type": "code",
    "id": "sA8LmAbOQ0F0",
    "outputId": "658afafe-e069-4160-d6ac-a368c764c8b0"
   },
   "outputs": [
    {
     "name": "stdout",
     "output_type": "stream",
     "text": [
      "<class 'pandas.core.frame.DataFrame'>\n",
      "Index: 8593 entries, 000a7016-95c0-4a6f-afbd-4eb6a0e0f4e3 to fffa8a36-16df-4a57-a408-caefb410cf76\n",
      "Data columns (total 11 columns):\n",
      "taxi_id             8593 non-null object\n",
      "distance            8593 non-null float64\n",
      "duration            8593 non-null float64\n",
      "start_longitude     8593 non-null float64\n",
      "start_latitude      8593 non-null float64\n",
      "end_longitude       8593 non-null float64\n",
      "end_latitude        8593 non-null float64\n",
      "occupancy           8593 non-null int64\n",
      "start_time          8593 non-null datetime64[ns]\n",
      "end_time            8593 non-null datetime64[ns]\n",
      "No. of Waypoints    8593 non-null int64\n",
      "dtypes: datetime64[ns](2), float64(6), int64(2), object(1)\n",
      "memory usage: 805.6+ KB\n"
     ]
    }
   ],
   "source": [
    "aggregated_data.info()"
   ]
  },
  {
   "cell_type": "code",
   "execution_count": 0,
   "metadata": {
    "colab": {},
    "colab_type": "code",
    "id": "yW1Och7THigF"
   },
   "outputs": [],
   "source": [
    "KM2MILE = 0.621\n",
    "AVERAGE_EMISSION = 404 # gram\n",
    "TAXI_FLEET_CHANGE_RATE = 0.1"
   ]
  },
  {
   "cell_type": "code",
   "execution_count": 0,
   "metadata": {
    "colab": {},
    "colab_type": "code",
    "id": "quyc7EPZHbta"
   },
   "outputs": [],
   "source": [
    "aggregated_data['emission'] = aggregated_data['distance'] * KM2MILE * AVERAGE_EMISSION"
   ]
  },
  {
   "cell_type": "code",
   "execution_count": 0,
   "metadata": {
    "colab": {},
    "colab_type": "code",
    "id": "jE2kYnwOspgF"
   },
   "outputs": [],
   "source": [
    "free_ride_emission = aggregated_data[aggregated_data['occupancy'] == 0].groupby(\"taxi_id\").sum()['emission']"
   ]
  },
  {
   "cell_type": "code",
   "execution_count": 0,
   "metadata": {
    "colab": {},
    "colab_type": "code",
    "id": "0vyCGM3EKv0i"
   },
   "outputs": [],
   "source": [
    "free_ride_emission = free_ride_emission.sort_values(ascending=False)"
   ]
  },
  {
   "cell_type": "code",
   "execution_count": 0,
   "metadata": {
    "colab": {
     "base_uri": "https://localhost:8080/",
     "height": 134
    },
    "colab_type": "code",
    "id": "6tKtu7FwPSWH",
    "outputId": "b06a9c35-39c0-4218-c2dd-3c5d704a74c6"
   },
   "outputs": [
    {
     "data": {
      "text/plain": [
       "taxi_id\n",
       "new_udwadla     9.362117e+06\n",
       "new_abdremlu    1.553662e+06\n",
       "new_abgibo      1.000929e+06\n",
       "new_abboip      7.853404e+05\n",
       "new_abcoij      3.199615e+04\n",
       "Name: emission, dtype: float64"
      ]
     },
     "execution_count": 18,
     "metadata": {
      "tags": []
     },
     "output_type": "execute_result"
    }
   ],
   "source": [
    "free_ride_emission"
   ]
  },
  {
   "cell_type": "code",
   "execution_count": 0,
   "metadata": {
    "colab": {},
    "colab_type": "code",
    "id": "z-qTiZ3VOGB-"
   },
   "outputs": [],
   "source": [
    "yearly_replacment_count = int(free_ride_emission.shape[0] * (1 - (1 - TAXI_FLEET_CHANGE_RATE) ** 12))"
   ]
  },
  {
   "cell_type": "code",
   "execution_count": 0,
   "metadata": {
    "colab": {
     "base_uri": "https://localhost:8080/",
     "height": 34
    },
    "colab_type": "code",
    "id": "DsdAfAuwQ6_o",
    "outputId": "8acac3de-1754-41b5-8429-56f08a17204e"
   },
   "outputs": [
    {
     "data": {
      "text/plain": [
       "3"
      ]
     },
     "execution_count": 20,
     "metadata": {
      "tags": []
     },
     "output_type": "execute_result"
    }
   ],
   "source": [
    "yearly_replacment_count"
   ]
  },
  {
   "cell_type": "markdown",
   "metadata": {
    "colab_type": "text",
    "id": "xagQKi1tRH9R"
   },
   "source": [
    "### Question 1. Yearly Potential Reduction of CO2 Emmission"
   ]
  },
  {
   "cell_type": "code",
   "execution_count": 0,
   "metadata": {
    "colab": {
     "base_uri": "https://localhost:8080/",
     "height": 34
    },
    "colab_type": "code",
    "id": "EV9X4TsGPHZh",
    "outputId": "b40b0f28-adf7-47ba-d607-1a156df54b20"
   },
   "outputs": [
    {
     "data": {
      "text/plain": [
       "11916707.720077917"
      ]
     },
     "execution_count": 21,
     "metadata": {
      "tags": []
     },
     "output_type": "execute_result"
    }
   ],
   "source": [
    "free_ride_emission.iloc[:yearly_replacment_count].sum()"
   ]
  },
  {
   "cell_type": "markdown",
   "metadata": {
    "colab_type": "text",
    "id": "hrZzjjCM-r4o"
   },
   "source": [
    "Here, we can see the plot of average trip duration depending on occupancy. Non-occupied Average trip duration is greater than occupied average trip duration."
   ]
  },
  {
   "cell_type": "code",
   "execution_count": 0,
   "metadata": {
    "colab": {
     "base_uri": "https://localhost:8080/",
     "height": 67
    },
    "colab_type": "code",
    "id": "FbN8Hg1oSNmf",
    "outputId": "caf742e7-9a32-4423-e7fd-168c543724ab"
   },
   "outputs": [
    {
     "data": {
      "text/plain": [
       "0    4297\n",
       "1    4296\n",
       "Name: occupancy, dtype: int64"
      ]
     },
     "execution_count": 22,
     "metadata": {
      "tags": []
     },
     "output_type": "execute_result"
    }
   ],
   "source": [
    "aggregated_data['occupancy'].value_counts()"
   ]
  },
  {
   "cell_type": "code",
   "execution_count": 0,
   "metadata": {
    "colab": {
     "base_uri": "https://localhost:8080/",
     "height": 295
    },
    "colab_type": "code",
    "id": "e_opwIfgDE6f",
    "outputId": "fd0005ff-cf8c-4767-adde-a5c2ff0d2c08"
   },
   "outputs": [
    {
     "data": {
      "image/png": "[encoded data removed]",
      "text/plain": [
       "<Figure size 432x288 with 1 Axes>"
      ]
     },
     "metadata": {
      "tags": []
     },
     "output_type": "display_data"
    }
   ],
   "source": [
    "plot_duration = aggregated_data.groupby('occupancy')['duration'].mean()\n",
    "plt.bar(plot_duration.index, plot_duration.values)\n",
    "plt.xticks(plot_duration.index)\n",
    "plt.title(\"Average Duration for Non-Occupied and Occupied trips\")\n",
    "plt.xlabel('occupancy')\n",
    "plt.ylabel('Average Duration')\n",
    "plt.show();"
   ]
  },
  {
   "cell_type": "markdown",
   "metadata": {
    "colab_type": "text",
    "id": "cHSEFwUPK8ra"
   },
   "source": [
    "We can see that average distance is greater for occupied trips."
   ]
  },
  {
   "cell_type": "code",
   "execution_count": 0,
   "metadata": {
    "colab": {
     "base_uri": "https://localhost:8080/",
     "height": 295
    },
    "colab_type": "code",
    "id": "7mJ58laUGeGT",
    "outputId": "e2fec74a-ce20-4050-e653-224f80a6e6e6"
   },
   "outputs": [
    {
     "data": {
      "image/png": "[encoded data removed]",
      "text/plain": [
       "<Figure size 432x288 with 1 Axes>"
      ]
     },
     "metadata": {
      "tags": []
     },
     "output_type": "display_data"
    }
   ],
   "source": [
    "plot_distance = aggregated_data.groupby('occupancy')['distance'].mean()\n",
    "plt.bar(plot_distance.index, plot_distance.values)\n",
    "plt.xticks(plot_distance.index)\n",
    "plt.title(\"Average Distance for Non-Occupied and Occupied trips\")\n",
    "plt.xlabel('occupancy')\n",
    "plt.ylabel('Average Distance')\n",
    "plt.show();"
   ]
  },
  {
   "cell_type": "code",
   "execution_count": 0,
   "metadata": {
    "colab": {
     "base_uri": "https://localhost:8080/",
     "height": 168
    },
    "colab_type": "code",
    "id": "7JnQj1uSQdcM",
    "outputId": "9e3d2e18-a2a1-4153-e19a-85aca995c39e"
   },
   "outputs": [
    {
     "data": {
      "text/plain": [
       "count    8593.000000\n",
       "mean       16.755468\n",
       "std       114.428873\n",
       "min         0.000000\n",
       "25%         3.433333\n",
       "50%         7.516667\n",
       "75%        13.716667\n",
       "max      6818.983333\n",
       "Name: duration, dtype: float64"
      ]
     },
     "execution_count": 25,
     "metadata": {
      "tags": []
     },
     "output_type": "execute_result"
    }
   ],
   "source": [
    "aggregated_data['duration'].describe()"
   ]
  },
  {
   "cell_type": "markdown",
   "metadata": {
    "colab_type": "text",
    "id": "XRBkwG6nVT7j"
   },
   "source": [
    "From boxplot we can see that the duration is not normally distributed"
   ]
  },
  {
   "cell_type": "code",
   "execution_count": 0,
   "metadata": {
    "colab": {
     "base_uri": "https://localhost:8080/",
     "height": 265
    },
    "colab_type": "code",
    "id": "GNC7IfodUO70",
    "outputId": "6a842746-9bf6-42a1-ac95-f45fbbbcb0ba"
   },
   "outputs": [
    {
     "data": {
      "image/png": "[encoded data removed]",
      "text/plain": [
       "<Figure size 432x288 with 1 Axes>"
      ]
     },
     "metadata": {
      "tags": []
     },
     "output_type": "display_data"
    }
   ],
   "source": [
    "plt.boxplot(aggregated_data['duration']);"
   ]
  },
  {
   "cell_type": "markdown",
   "metadata": {
    "colab_type": "text",
    "id": "Rpx96iVEOfY_"
   },
   "source": [
    "Pick-up Longitude and Latitude of San Francisco"
   ]
  },
  {
   "cell_type": "code",
   "execution_count": 0,
   "metadata": {
    "colab": {
     "base_uri": "https://localhost:8080/",
     "height": 621
    },
    "colab_type": "code",
    "id": "Fqd1zXGPK5i1",
    "outputId": "14f386f2-6203-486f-a22d-01d025a2a625"
   },
   "outputs": [
    {
     "data": {
      "image/png": "[encoded data removed]",
      "text/plain": [
       "<Figure size 576x720 with 1 Axes>"
      ]
     },
     "metadata": {
      "tags": []
     },
     "output_type": "display_data"
    }
   ],
   "source": [
    "city_long_border = (aggregated_data['start_longitude'].min(), aggregated_data['start_longitude'].max())\n",
    "city_lat_border = (aggregated_data['start_latitude'].min(), aggregated_data['start_latitude'].max())\n",
    "plt.figure(figsize=(8,10))\n",
    "plt.scatter(aggregated_data['start_longitude'].values, aggregated_data['start_latitude'].values,\n",
    "              color='blue', s=1, alpha=0.1)\n",
    "plt.title('Pick-up Longitude and Latitude')\n",
    "plt.ylabel('latitude')\n",
    "plt.xlabel('longitude')\n",
    "plt.ylim(city_lat_border)\n",
    "plt.xlim(city_long_border)\n",
    "plt.show()"
   ]
  },
  {
   "cell_type": "code",
   "execution_count": 0,
   "metadata": {
    "colab": {
     "base_uri": "https://localhost:8080/",
     "height": 616
    },
    "colab_type": "code",
    "id": "YPh4wyXvBgxs",
    "outputId": "de0387f7-b3fe-4bd4-851f-c1ea8e35023d"
   },
   "outputs": [
    {
     "data": {
      "text/html": [
       "<div>\n",
       "<style scoped>\n",
       "    .dataframe tbody tr th:only-of-type {\n",
       "        vertical-align: middle;\n",
       "    }\n",
       "\n",
       "    .dataframe tbody tr th {\n",
       "        vertical-align: top;\n",
       "    }\n",
       "\n",
       "    .dataframe thead th {\n",
       "        text-align: right;\n",
       "    }\n",
       "</style>\n",
       "<table border=\"1\" class=\"dataframe\">\n",
       "  <thead>\n",
       "    <tr style=\"text-align: right;\">\n",
       "      <th></th>\n",
       "      <th>taxi_id</th>\n",
       "      <th>distance</th>\n",
       "      <th>duration</th>\n",
       "      <th>start_longitude</th>\n",
       "      <th>start_latitude</th>\n",
       "      <th>end_longitude</th>\n",
       "      <th>end_latitude</th>\n",
       "      <th>occupancy</th>\n",
       "      <th>start_time</th>\n",
       "      <th>end_time</th>\n",
       "      <th>No. of Waypoints</th>\n",
       "      <th>emission</th>\n",
       "    </tr>\n",
       "    <tr>\n",
       "      <th>trip_id</th>\n",
       "      <th></th>\n",
       "      <th></th>\n",
       "      <th></th>\n",
       "      <th></th>\n",
       "      <th></th>\n",
       "      <th></th>\n",
       "      <th></th>\n",
       "      <th></th>\n",
       "      <th></th>\n",
       "      <th></th>\n",
       "      <th></th>\n",
       "      <th></th>\n",
       "    </tr>\n",
       "  </thead>\n",
       "  <tbody>\n",
       "    <tr>\n",
       "      <th>000a7016-95c0-4a6f-afbd-4eb6a0e0f4e3</th>\n",
       "      <td>new_abgibo</td>\n",
       "      <td>0.543472</td>\n",
       "      <td>3.750000</td>\n",
       "      <td>-122.44625</td>\n",
       "      <td>37.79566</td>\n",
       "      <td>-122.44964</td>\n",
       "      <td>37.79824</td>\n",
       "      <td>0</td>\n",
       "      <td>2008-05-21 00:18:05</td>\n",
       "      <td>2008-05-21 00:21:50</td>\n",
       "      <td>6</td>\n",
       "      <td>136.348394</td>\n",
       "    </tr>\n",
       "    <tr>\n",
       "      <th>001403cc-e3ca-4b79-91d2-ecf59f160905</th>\n",
       "      <td>new_abdremlu</td>\n",
       "      <td>22.396868</td>\n",
       "      <td>24.266667</td>\n",
       "      <td>-122.39922</td>\n",
       "      <td>37.61946</td>\n",
       "      <td>-122.42014</td>\n",
       "      <td>37.80612</td>\n",
       "      <td>1</td>\n",
       "      <td>2008-05-22 20:58:38</td>\n",
       "      <td>2008-05-22 21:22:54</td>\n",
       "      <td>26</td>\n",
       "      <td>5619.015910</td>\n",
       "    </tr>\n",
       "    <tr>\n",
       "      <th>001b0894-cd7c-4de2-8b9e-65b230ca05de</th>\n",
       "      <td>new_abdremlu</td>\n",
       "      <td>5.189942</td>\n",
       "      <td>15.133333</td>\n",
       "      <td>-122.42340</td>\n",
       "      <td>37.79338</td>\n",
       "      <td>-122.39837</td>\n",
       "      <td>37.77192</td>\n",
       "      <td>1</td>\n",
       "      <td>2008-05-22 23:21:56</td>\n",
       "      <td>2008-05-22 23:37:04</td>\n",
       "      <td>16</td>\n",
       "      <td>1302.073443</td>\n",
       "    </tr>\n",
       "    <tr>\n",
       "      <th>0021089d-39f0-47df-a99c-7b47b9442d7c</th>\n",
       "      <td>new_udwadla</td>\n",
       "      <td>1.116952</td>\n",
       "      <td>3.800000</td>\n",
       "      <td>-122.43212</td>\n",
       "      <td>37.79689</td>\n",
       "      <td>-122.42184</td>\n",
       "      <td>37.79624</td>\n",
       "      <td>0</td>\n",
       "      <td>2008-06-02 23:36:46</td>\n",
       "      <td>2008-06-02 23:40:34</td>\n",
       "      <td>6</td>\n",
       "      <td>280.225466</td>\n",
       "    </tr>\n",
       "    <tr>\n",
       "      <th>00363a3a-2962-4b70-a7a6-f5011d954bbd</th>\n",
       "      <td>new_abgibo</td>\n",
       "      <td>1.986649</td>\n",
       "      <td>5.666667</td>\n",
       "      <td>-122.40230</td>\n",
       "      <td>37.76155</td>\n",
       "      <td>-122.39509</td>\n",
       "      <td>37.75129</td>\n",
       "      <td>0</td>\n",
       "      <td>2008-06-06 08:01:46</td>\n",
       "      <td>2008-06-06 08:07:26</td>\n",
       "      <td>7</td>\n",
       "      <td>498.418399</td>\n",
       "    </tr>\n",
       "    <tr>\n",
       "      <th>...</th>\n",
       "      <td>...</td>\n",
       "      <td>...</td>\n",
       "      <td>...</td>\n",
       "      <td>...</td>\n",
       "      <td>...</td>\n",
       "      <td>...</td>\n",
       "      <td>...</td>\n",
       "      <td>...</td>\n",
       "      <td>...</td>\n",
       "      <td>...</td>\n",
       "      <td>...</td>\n",
       "      <td>...</td>\n",
       "    </tr>\n",
       "    <tr>\n",
       "      <th>ffdcecfb-3548-4ec0-ad63-684c0783afa8</th>\n",
       "      <td>new_abboip</td>\n",
       "      <td>12.967335</td>\n",
       "      <td>26.666667</td>\n",
       "      <td>-122.48292</td>\n",
       "      <td>37.70092</td>\n",
       "      <td>-122.41833</td>\n",
       "      <td>37.74806</td>\n",
       "      <td>0</td>\n",
       "      <td>2008-05-20 04:58:04</td>\n",
       "      <td>2008-05-20 05:24:44</td>\n",
       "      <td>31</td>\n",
       "      <td>3253.296788</td>\n",
       "    </tr>\n",
       "    <tr>\n",
       "      <th>ffddf206-e3e2-40ee-833b-757dfeb0cc19</th>\n",
       "      <td>new_abgibo</td>\n",
       "      <td>0.209796</td>\n",
       "      <td>0.966667</td>\n",
       "      <td>-122.39661</td>\n",
       "      <td>37.77578</td>\n",
       "      <td>-122.39488</td>\n",
       "      <td>37.77708</td>\n",
       "      <td>0</td>\n",
       "      <td>2008-05-18 22:12:49</td>\n",
       "      <td>2008-05-18 22:13:47</td>\n",
       "      <td>2</td>\n",
       "      <td>52.634487</td>\n",
       "    </tr>\n",
       "    <tr>\n",
       "      <th>ffe2f489-083f-434c-85fd-5ea34f1caadb</th>\n",
       "      <td>new_abdremlu</td>\n",
       "      <td>3.567260</td>\n",
       "      <td>7.150000</td>\n",
       "      <td>-122.43506</td>\n",
       "      <td>37.80090</td>\n",
       "      <td>-122.40029</td>\n",
       "      <td>37.79514</td>\n",
       "      <td>1</td>\n",
       "      <td>2008-06-05 12:11:21</td>\n",
       "      <td>2008-06-05 12:18:30</td>\n",
       "      <td>9</td>\n",
       "      <td>894.968466</td>\n",
       "    </tr>\n",
       "    <tr>\n",
       "      <th>ffe7458c-3714-4922-9f07-e5ed36a54f05</th>\n",
       "      <td>new_udwadla</td>\n",
       "      <td>2.671607</td>\n",
       "      <td>4.633333</td>\n",
       "      <td>-122.44551</td>\n",
       "      <td>37.80545</td>\n",
       "      <td>-122.47489</td>\n",
       "      <td>37.80764</td>\n",
       "      <td>1</td>\n",
       "      <td>2008-06-07 00:31:27</td>\n",
       "      <td>2008-06-07 00:36:05</td>\n",
       "      <td>3</td>\n",
       "      <td>670.263418</td>\n",
       "    </tr>\n",
       "    <tr>\n",
       "      <th>fffa8a36-16df-4a57-a408-caefb410cf76</th>\n",
       "      <td>new_abboip</td>\n",
       "      <td>0.000000</td>\n",
       "      <td>0.000000</td>\n",
       "      <td>-122.41514</td>\n",
       "      <td>37.75889</td>\n",
       "      <td>-122.41514</td>\n",
       "      <td>37.75889</td>\n",
       "      <td>0</td>\n",
       "      <td>2008-06-09 06:28:41</td>\n",
       "      <td>2008-06-09 06:28:41</td>\n",
       "      <td>1</td>\n",
       "      <td>0.000000</td>\n",
       "    </tr>\n",
       "  </tbody>\n",
       "</table>\n",
       "<p>8593 rows × 12 columns</p>\n",
       "</div>"
      ],
      "text/plain": [
       "                                           taxi_id  ...     emission\n",
       "trip_id                                             ...             \n",
       "000a7016-95c0-4a6f-afbd-4eb6a0e0f4e3    new_abgibo  ...   136.348394\n",
       "001403cc-e3ca-4b79-91d2-ecf59f160905  new_abdremlu  ...  5619.015910\n",
       "001b0894-cd7c-4de2-8b9e-65b230ca05de  new_abdremlu  ...  1302.073443\n",
       "0021089d-39f0-47df-a99c-7b47b9442d7c   new_udwadla  ...   280.225466\n",
       "00363a3a-2962-4b70-a7a6-f5011d954bbd    new_abgibo  ...   498.418399\n",
       "...                                            ...  ...          ...\n",
       "ffdcecfb-3548-4ec0-ad63-684c0783afa8    new_abboip  ...  3253.296788\n",
       "ffddf206-e3e2-40ee-833b-757dfeb0cc19    new_abgibo  ...    52.634487\n",
       "ffe2f489-083f-434c-85fd-5ea34f1caadb  new_abdremlu  ...   894.968466\n",
       "ffe7458c-3714-4922-9f07-e5ed36a54f05   new_udwadla  ...   670.263418\n",
       "fffa8a36-16df-4a57-a408-caefb410cf76    new_abboip  ...     0.000000\n",
       "\n",
       "[8593 rows x 12 columns]"
      ]
     },
     "execution_count": 28,
     "metadata": {
      "tags": []
     },
     "output_type": "execute_result"
    }
   ],
   "source": [
    "aggregated_data"
   ]
  },
  {
   "cell_type": "markdown",
   "metadata": {
    "colab_type": "text",
    "id": "XIRu1G7JCK_S"
   },
   "source": [
    "Instead of using the actual next pickup location of the taxi as independent variable one can use the nearest pickup location (can be the pickup location of other taxi) within a specified time bin."
   ]
  },
  {
   "cell_type": "markdown",
   "metadata": {
    "colab_type": "text",
    "id": "g5azuNmFDKU7"
   },
   "source": [
    "### Missing values"
   ]
  },
  {
   "cell_type": "markdown",
   "metadata": {
    "colab_type": "text",
    "id": "DUZAPmXFDGXX"
   },
   "source": [
    "Knowing about missing values is important because they indicate how much we don’t know about our data. Making inferences based on just a few cases is often unwise. In addition, many modelling procedures break down when missing values are involved and the corresponding rows will either have to be removed completely or the values need to be estimated somehow.\n",
    "\n",
    "Here, we are in the fortunate position that our data is complete and there are no missing values:"
   ]
  },
  {
   "cell_type": "code",
   "execution_count": 0,
   "metadata": {
    "colab": {
     "base_uri": "https://localhost:8080/",
     "height": 134
    },
    "colab_type": "code",
    "id": "rDm5k3BmTKNp",
    "outputId": "9ce1921d-9e14-4f33-eb65-d0b6ccc431ba"
   },
   "outputs": [
    {
     "name": "stdout",
     "output_type": "stream",
     "text": [
      "latitude     0\n",
      "longitude    0\n",
      "occupancy    0\n",
      "time         0\n",
      "taxi_id      0\n",
      "trip_id      0\n",
      "dtype: int64\n"
     ]
    }
   ],
   "source": [
    "print(data.isnull().sum())"
   ]
  },
  {
   "cell_type": "markdown",
   "metadata": {
    "colab_type": "text",
    "id": "rF80vbCZinVJ"
   },
   "source": [
    "### Feature Addition"
   ]
  },
  {
   "cell_type": "code",
   "execution_count": 0,
   "metadata": {
    "colab": {},
    "colab_type": "code",
    "id": "nzDasL5rDR0d"
   },
   "outputs": [],
   "source": [
    "from pandas.tseries.holiday import USFederalHolidayCalendar as calendar"
   ]
  },
  {
   "cell_type": "code",
   "execution_count": 0,
   "metadata": {
    "colab": {},
    "colab_type": "code",
    "id": "Jn0ZI1UIJmcZ"
   },
   "outputs": [],
   "source": [
    "def add_datetime_features(df, date_time_column):\n",
    "    #Convert to datetime format\n",
    "    \n",
    "    df['hour'] = df[date_time_column].dt.hour\n",
    "    df['day'] = df[date_time_column].dt.day\n",
    "    df['weekday'] = df[date_time_column].dt.weekday\n",
    "    \n",
    "    return df\n",
    "\n",
    "df = add_datetime_features(aggregated_data, 'start_time')"
   ]
  },
  {
   "cell_type": "code",
   "execution_count": 0,
   "metadata": {
    "colab": {},
    "colab_type": "code",
    "id": "P0ikkCD7M3Oo"
   },
   "outputs": [],
   "source": [
    "hour_bins = [-1, 5, 7, 10, 16, 21, 23]\n",
    "bin_names = ['late_night', 'morning', 'morning_peak', 'afternoon', 'evening', 'night']\n",
    "df['hour_type'] = pd.cut(df.hour, bins=hour_bins, labels=bin_names).cat.codes"
   ]
  },
  {
   "cell_type": "code",
   "execution_count": 0,
   "metadata": {
    "colab": {},
    "colab_type": "code",
    "id": "P2y6YkkWjIAm"
   },
   "outputs": [],
   "source": [
    "df['speed'] = df['distance'] / (df['duration'] / 60) "
   ]
  },
  {
   "cell_type": "code",
   "execution_count": 0,
   "metadata": {
    "colab": {
     "base_uri": "https://localhost:8080/",
     "height": 514
    },
    "colab_type": "code",
    "id": "GoSM0baiNVGp",
    "outputId": "b8029203-b97c-4d1a-f42c-2c77d4369917"
   },
   "outputs": [
    {
     "data": {
      "text/html": [
       "<div>\n",
       "<style scoped>\n",
       "    .dataframe tbody tr th:only-of-type {\n",
       "        vertical-align: middle;\n",
       "    }\n",
       "\n",
       "    .dataframe tbody tr th {\n",
       "        vertical-align: top;\n",
       "    }\n",
       "\n",
       "    .dataframe thead th {\n",
       "        text-align: right;\n",
       "    }\n",
       "</style>\n",
       "<table border=\"1\" class=\"dataframe\">\n",
       "  <thead>\n",
       "    <tr style=\"text-align: right;\">\n",
       "      <th></th>\n",
       "      <th>taxi_id</th>\n",
       "      <th>distance</th>\n",
       "      <th>duration</th>\n",
       "      <th>start_longitude</th>\n",
       "      <th>start_latitude</th>\n",
       "      <th>end_longitude</th>\n",
       "      <th>end_latitude</th>\n",
       "      <th>occupancy</th>\n",
       "      <th>start_time</th>\n",
       "      <th>end_time</th>\n",
       "      <th>No. of Waypoints</th>\n",
       "      <th>emission</th>\n",
       "      <th>hour</th>\n",
       "      <th>day</th>\n",
       "      <th>weekday</th>\n",
       "      <th>hour_type</th>\n",
       "    </tr>\n",
       "    <tr>\n",
       "      <th>trip_id</th>\n",
       "      <th></th>\n",
       "      <th></th>\n",
       "      <th></th>\n",
       "      <th></th>\n",
       "      <th></th>\n",
       "      <th></th>\n",
       "      <th></th>\n",
       "      <th></th>\n",
       "      <th></th>\n",
       "      <th></th>\n",
       "      <th></th>\n",
       "      <th></th>\n",
       "      <th></th>\n",
       "      <th></th>\n",
       "      <th></th>\n",
       "      <th></th>\n",
       "    </tr>\n",
       "  </thead>\n",
       "  <tbody>\n",
       "    <tr>\n",
       "      <th>000a7016-95c0-4a6f-afbd-4eb6a0e0f4e3</th>\n",
       "      <td>new_abgibo</td>\n",
       "      <td>0.543472</td>\n",
       "      <td>3.750000</td>\n",
       "      <td>-122.44625</td>\n",
       "      <td>37.79566</td>\n",
       "      <td>-122.44964</td>\n",
       "      <td>37.79824</td>\n",
       "      <td>0</td>\n",
       "      <td>2008-05-21 00:18:05</td>\n",
       "      <td>2008-05-21 00:21:50</td>\n",
       "      <td>6</td>\n",
       "      <td>136.348394</td>\n",
       "      <td>0</td>\n",
       "      <td>21</td>\n",
       "      <td>2</td>\n",
       "      <td>0</td>\n",
       "    </tr>\n",
       "    <tr>\n",
       "      <th>001403cc-e3ca-4b79-91d2-ecf59f160905</th>\n",
       "      <td>new_abdremlu</td>\n",
       "      <td>22.396868</td>\n",
       "      <td>24.266667</td>\n",
       "      <td>-122.39922</td>\n",
       "      <td>37.61946</td>\n",
       "      <td>-122.42014</td>\n",
       "      <td>37.80612</td>\n",
       "      <td>1</td>\n",
       "      <td>2008-05-22 20:58:38</td>\n",
       "      <td>2008-05-22 21:22:54</td>\n",
       "      <td>26</td>\n",
       "      <td>5619.015910</td>\n",
       "      <td>20</td>\n",
       "      <td>22</td>\n",
       "      <td>3</td>\n",
       "      <td>4</td>\n",
       "    </tr>\n",
       "    <tr>\n",
       "      <th>001b0894-cd7c-4de2-8b9e-65b230ca05de</th>\n",
       "      <td>new_abdremlu</td>\n",
       "      <td>5.189942</td>\n",
       "      <td>15.133333</td>\n",
       "      <td>-122.42340</td>\n",
       "      <td>37.79338</td>\n",
       "      <td>-122.39837</td>\n",
       "      <td>37.77192</td>\n",
       "      <td>1</td>\n",
       "      <td>2008-05-22 23:21:56</td>\n",
       "      <td>2008-05-22 23:37:04</td>\n",
       "      <td>16</td>\n",
       "      <td>1302.073443</td>\n",
       "      <td>23</td>\n",
       "      <td>22</td>\n",
       "      <td>3</td>\n",
       "      <td>5</td>\n",
       "    </tr>\n",
       "    <tr>\n",
       "      <th>0021089d-39f0-47df-a99c-7b47b9442d7c</th>\n",
       "      <td>new_udwadla</td>\n",
       "      <td>1.116952</td>\n",
       "      <td>3.800000</td>\n",
       "      <td>-122.43212</td>\n",
       "      <td>37.79689</td>\n",
       "      <td>-122.42184</td>\n",
       "      <td>37.79624</td>\n",
       "      <td>0</td>\n",
       "      <td>2008-06-02 23:36:46</td>\n",
       "      <td>2008-06-02 23:40:34</td>\n",
       "      <td>6</td>\n",
       "      <td>280.225466</td>\n",
       "      <td>23</td>\n",
       "      <td>2</td>\n",
       "      <td>0</td>\n",
       "      <td>5</td>\n",
       "    </tr>\n",
       "    <tr>\n",
       "      <th>00363a3a-2962-4b70-a7a6-f5011d954bbd</th>\n",
       "      <td>new_abgibo</td>\n",
       "      <td>1.986649</td>\n",
       "      <td>5.666667</td>\n",
       "      <td>-122.40230</td>\n",
       "      <td>37.76155</td>\n",
       "      <td>-122.39509</td>\n",
       "      <td>37.75129</td>\n",
       "      <td>0</td>\n",
       "      <td>2008-06-06 08:01:46</td>\n",
       "      <td>2008-06-06 08:07:26</td>\n",
       "      <td>7</td>\n",
       "      <td>498.418399</td>\n",
       "      <td>8</td>\n",
       "      <td>6</td>\n",
       "      <td>4</td>\n",
       "      <td>2</td>\n",
       "    </tr>\n",
       "  </tbody>\n",
       "</table>\n",
       "</div>"
      ],
      "text/plain": [
       "                                           taxi_id  ...  hour_type\n",
       "trip_id                                             ...           \n",
       "000a7016-95c0-4a6f-afbd-4eb6a0e0f4e3    new_abgibo  ...          0\n",
       "001403cc-e3ca-4b79-91d2-ecf59f160905  new_abdremlu  ...          4\n",
       "001b0894-cd7c-4de2-8b9e-65b230ca05de  new_abdremlu  ...          5\n",
       "0021089d-39f0-47df-a99c-7b47b9442d7c   new_udwadla  ...          5\n",
       "00363a3a-2962-4b70-a7a6-f5011d954bbd    new_abgibo  ...          2\n",
       "\n",
       "[5 rows x 16 columns]"
      ]
     },
     "execution_count": 33,
     "metadata": {
      "tags": []
     },
     "output_type": "execute_result"
    }
   ],
   "source": [
    "df.head()"
   ]
  },
  {
   "cell_type": "markdown",
   "metadata": {
    "colab_type": "text",
    "id": "TriN2ne_jON1"
   },
   "source": [
    "#### Outlier removal\n",
    "\n"
   ]
  },
  {
   "cell_type": "code",
   "execution_count": 0,
   "metadata": {
    "colab": {},
    "colab_type": "code",
    "id": "l5N4O1FmjhqP"
   },
   "outputs": [],
   "source": [
    "df = df[df['speed'] <= 300]"
   ]
  },
  {
   "cell_type": "markdown",
   "metadata": {
    "colab_type": "text",
    "id": "j3R79m1rkB0J"
   },
   "source": [
    "## Clustering"
   ]
  },
  {
   "cell_type": "markdown",
   "metadata": {
    "colab_type": "text",
    "id": "zTFOrZPSqWph"
   },
   "source": [
    "### K-means clustering"
   ]
  },
  {
   "cell_type": "markdown",
   "metadata": {
    "colab_type": "text",
    "id": "QrebwCpEY-4c"
   },
   "source": [
    "Determining the optimal number of clusters\n"
   ]
  },
  {
   "cell_type": "code",
   "execution_count": 0,
   "metadata": {
    "colab": {},
    "colab_type": "code",
    "id": "EJeK-xmFSwP4"
   },
   "outputs": [],
   "source": [
    "coords = df[['start_latitude', 'start_longitude']].values"
   ]
  },
  {
   "cell_type": "markdown",
   "metadata": {
    "colab_type": "text",
    "id": "sBownoywZQZH"
   },
   "source": [
    "Silhouette score for different values of K"
   ]
  },
  {
   "cell_type": "code",
   "execution_count": 0,
   "metadata": {
    "colab": {},
    "colab_type": "code",
    "id": "IKOBJ90BQNaO"
   },
   "outputs": [],
   "source": [
    "s_score = []\n",
    "for i in range(2,40):\n",
    "  km1 = MiniBatchKMeans(n_clusters=i, batch_size=1000 , random_state = 1).fit(coords)\n",
    "  score = silhouette_score(X = coords, labels = km1.labels_)\n",
    "  s_score = np.append(s_score, score)"
   ]
  },
  {
   "cell_type": "code",
   "execution_count": 0,
   "metadata": {
    "colab": {
     "base_uri": "https://localhost:8080/",
     "height": 281
    },
    "colab_type": "code",
    "id": "o0__DW-AaFyC",
    "outputId": "df397f7d-bdfb-4fde-b525-2c63a9ae16fe"
   },
   "outputs": [
    {
     "data": {
      "image/png": "[encoded data removed]",
      "text/plain": [
       "<Figure size 432x288 with 1 Axes>"
      ]
     },
     "metadata": {
      "tags": []
     },
     "output_type": "display_data"
    }
   ],
   "source": [
    "plt.plot(range(2,40), s_score, 'bx-')\n",
    "plt.title('Elbow plot for Silhouette score');"
   ]
  },
  {
   "cell_type": "markdown",
   "metadata": {
    "colab_type": "text",
    "id": "dD7vo0rdaQ5d"
   },
   "source": [
    "We can choose 35 clusters for our task, since silhouette score is remaining the same after that cluster"
   ]
  },
  {
   "cell_type": "code",
   "execution_count": 0,
   "metadata": {
    "colab": {},
    "colab_type": "code",
    "id": "6mguYCEcarOx"
   },
   "outputs": [],
   "source": [
    "kmeans = MiniBatchKMeans(n_clusters=35, batch_size=1000, random_state=1).fit(coords)\n",
    "df['pickup_cluster'] = kmeans.predict(coords)"
   ]
  },
  {
   "cell_type": "code",
   "execution_count": 0,
   "metadata": {
    "colab": {},
    "colab_type": "code",
    "id": "sWkktJA1WpIj"
   },
   "outputs": [],
   "source": [
    "cluster_centers = kmeans.cluster_centers_\n",
    "cluster_len = len(cluster_centers)"
   ]
  },
  {
   "cell_type": "code",
   "execution_count": 0,
   "metadata": {
    "colab": {
     "base_uri": "https://localhost:8080/",
     "height": 34
    },
    "colab_type": "code",
    "id": "DFR9Fom-Wz1K",
    "outputId": "0e306aae-8c6d-4c63-81bd-f57ae45c0df3"
   },
   "outputs": [
    {
     "data": {
      "text/plain": [
       "35"
      ]
     },
     "execution_count": 40,
     "metadata": {
      "tags": []
     },
     "output_type": "execute_result"
    }
   ],
   "source": [
    "cluster_len"
   ]
  },
  {
   "cell_type": "markdown",
   "metadata": {
    "colab_type": "text",
    "id": "NH45NLLicV2H"
   },
   "source": [
    "Map based on clusters"
   ]
  },
  {
   "cell_type": "code",
   "execution_count": 0,
   "metadata": {
    "colab": {
     "base_uri": "https://localhost:8080/",
     "height": 606
    },
    "colab_type": "code",
    "id": "xsrImMKpXiBj",
    "outputId": "49660542-6616-4121-fed9-c56fbfb15fad"
   },
   "outputs": [
    {
     "data": {
      "image/png": "[encoded data removed]",
      "text/plain": [
       "<Figure size 576x720 with 1 Axes>"
      ]
     },
     "metadata": {
      "tags": []
     },
     "output_type": "display_data"
    }
   ],
   "source": [
    "plt.figure(figsize=(8,10))\n",
    "plt.scatter(df['start_longitude'].values, df['start_latitude'].values, s=10, lw=0,\n",
    "           c=df['pickup_cluster'].values, alpha=0.2)\n",
    "plt.xlim(city_long_border)\n",
    "plt.ylim(city_lat_border)\n",
    "plt.xlabel('Longitude')\n",
    "plt.ylabel('Latitude')\n",
    "plt.show()"
   ]
  },
  {
   "cell_type": "code",
   "execution_count": 0,
   "metadata": {
    "colab": {
     "base_uri": "https://localhost:8080/",
     "height": 484
    },
    "colab_type": "code",
    "id": "_b5WRG5UCHC_",
    "outputId": "b046a437-ae08-4c71-f954-22708459a173"
   },
   "outputs": [
    {
     "data": {
      "text/html": [
       "<div>\n",
       "<style scoped>\n",
       "    .dataframe tbody tr th:only-of-type {\n",
       "        vertical-align: middle;\n",
       "    }\n",
       "\n",
       "    .dataframe tbody tr th {\n",
       "        vertical-align: top;\n",
       "    }\n",
       "\n",
       "    .dataframe thead th {\n",
       "        text-align: right;\n",
       "    }\n",
       "</style>\n",
       "<table border=\"1\" class=\"dataframe\">\n",
       "  <thead>\n",
       "    <tr style=\"text-align: right;\">\n",
       "      <th></th>\n",
       "      <th>trip_id</th>\n",
       "      <th>taxi_id</th>\n",
       "      <th>distance</th>\n",
       "      <th>duration</th>\n",
       "      <th>start_longitude</th>\n",
       "      <th>start_latitude</th>\n",
       "      <th>end_longitude</th>\n",
       "      <th>end_latitude</th>\n",
       "      <th>occupancy</th>\n",
       "      <th>start_time</th>\n",
       "      <th>end_time</th>\n",
       "      <th>No. of Waypoints</th>\n",
       "      <th>emission</th>\n",
       "      <th>hour</th>\n",
       "      <th>day</th>\n",
       "      <th>weekday</th>\n",
       "      <th>hour_type</th>\n",
       "      <th>pickup_cluster</th>\n",
       "    </tr>\n",
       "  </thead>\n",
       "  <tbody>\n",
       "    <tr>\n",
       "      <th>0</th>\n",
       "      <td>000a7016-95c0-4a6f-afbd-4eb6a0e0f4e3</td>\n",
       "      <td>new_abgibo</td>\n",
       "      <td>0.543472</td>\n",
       "      <td>3.750000</td>\n",
       "      <td>-122.44625</td>\n",
       "      <td>37.79566</td>\n",
       "      <td>-122.44964</td>\n",
       "      <td>37.79824</td>\n",
       "      <td>0</td>\n",
       "      <td>2008-05-21 00:18:05</td>\n",
       "      <td>2008-05-21 00:21:50</td>\n",
       "      <td>6</td>\n",
       "      <td>136.348394</td>\n",
       "      <td>0</td>\n",
       "      <td>21</td>\n",
       "      <td>2</td>\n",
       "      <td>0</td>\n",
       "      <td>13</td>\n",
       "    </tr>\n",
       "    <tr>\n",
       "      <th>1</th>\n",
       "      <td>001403cc-e3ca-4b79-91d2-ecf59f160905</td>\n",
       "      <td>new_abdremlu</td>\n",
       "      <td>22.396868</td>\n",
       "      <td>24.266667</td>\n",
       "      <td>-122.39922</td>\n",
       "      <td>37.61946</td>\n",
       "      <td>-122.42014</td>\n",
       "      <td>37.80612</td>\n",
       "      <td>1</td>\n",
       "      <td>2008-05-22 20:58:38</td>\n",
       "      <td>2008-05-22 21:22:54</td>\n",
       "      <td>26</td>\n",
       "      <td>5619.015910</td>\n",
       "      <td>20</td>\n",
       "      <td>22</td>\n",
       "      <td>3</td>\n",
       "      <td>4</td>\n",
       "      <td>30</td>\n",
       "    </tr>\n",
       "    <tr>\n",
       "      <th>2</th>\n",
       "      <td>001b0894-cd7c-4de2-8b9e-65b230ca05de</td>\n",
       "      <td>new_abdremlu</td>\n",
       "      <td>5.189942</td>\n",
       "      <td>15.133333</td>\n",
       "      <td>-122.42340</td>\n",
       "      <td>37.79338</td>\n",
       "      <td>-122.39837</td>\n",
       "      <td>37.77192</td>\n",
       "      <td>1</td>\n",
       "      <td>2008-05-22 23:21:56</td>\n",
       "      <td>2008-05-22 23:37:04</td>\n",
       "      <td>16</td>\n",
       "      <td>1302.073443</td>\n",
       "      <td>23</td>\n",
       "      <td>22</td>\n",
       "      <td>3</td>\n",
       "      <td>5</td>\n",
       "      <td>0</td>\n",
       "    </tr>\n",
       "    <tr>\n",
       "      <th>3</th>\n",
       "      <td>0021089d-39f0-47df-a99c-7b47b9442d7c</td>\n",
       "      <td>new_udwadla</td>\n",
       "      <td>1.116952</td>\n",
       "      <td>3.800000</td>\n",
       "      <td>-122.43212</td>\n",
       "      <td>37.79689</td>\n",
       "      <td>-122.42184</td>\n",
       "      <td>37.79624</td>\n",
       "      <td>0</td>\n",
       "      <td>2008-06-02 23:36:46</td>\n",
       "      <td>2008-06-02 23:40:34</td>\n",
       "      <td>6</td>\n",
       "      <td>280.225466</td>\n",
       "      <td>23</td>\n",
       "      <td>2</td>\n",
       "      <td>0</td>\n",
       "      <td>5</td>\n",
       "      <td>13</td>\n",
       "    </tr>\n",
       "    <tr>\n",
       "      <th>4</th>\n",
       "      <td>00363a3a-2962-4b70-a7a6-f5011d954bbd</td>\n",
       "      <td>new_abgibo</td>\n",
       "      <td>1.986649</td>\n",
       "      <td>5.666667</td>\n",
       "      <td>-122.40230</td>\n",
       "      <td>37.76155</td>\n",
       "      <td>-122.39509</td>\n",
       "      <td>37.75129</td>\n",
       "      <td>0</td>\n",
       "      <td>2008-06-06 08:01:46</td>\n",
       "      <td>2008-06-06 08:07:26</td>\n",
       "      <td>7</td>\n",
       "      <td>498.418399</td>\n",
       "      <td>8</td>\n",
       "      <td>6</td>\n",
       "      <td>4</td>\n",
       "      <td>2</td>\n",
       "      <td>15</td>\n",
       "    </tr>\n",
       "  </tbody>\n",
       "</table>\n",
       "</div>"
      ],
      "text/plain": [
       "                                trip_id  ... pickup_cluster\n",
       "0  000a7016-95c0-4a6f-afbd-4eb6a0e0f4e3  ...             13\n",
       "1  001403cc-e3ca-4b79-91d2-ecf59f160905  ...             30\n",
       "2  001b0894-cd7c-4de2-8b9e-65b230ca05de  ...              0\n",
       "3  0021089d-39f0-47df-a99c-7b47b9442d7c  ...             13\n",
       "4  00363a3a-2962-4b70-a7a6-f5011d954bbd  ...             15\n",
       "\n",
       "[5 rows x 18 columns]"
      ]
     },
     "execution_count": 47,
     "metadata": {
      "tags": []
     },
     "output_type": "execute_result"
    }
   ],
   "source": [
    "# saving our result df to csv\n",
    "# df.to_csv('/content/drive/My Drive/Colab Notebooks/data.csv')\n",
    "# data = pd.read_csv('/content/drive/My Drive/Colab Notebooks/data.csv')\n",
    "# data.head()"
   ]
  },
  {
   "cell_type": "markdown",
   "metadata": {
    "colab_type": "text",
    "id": "72o5fBZrkS-1"
   },
   "source": [
    "## Modeling"
   ]
  },
  {
   "cell_type": "markdown",
   "metadata": {
    "colab_type": "text",
    "id": "jUiadipAqc9l"
   },
   "source": [
    "### Multivariate Regression and XGBoost"
   ]
  },
  {
   "cell_type": "code",
   "execution_count": 0,
   "metadata": {
    "colab": {
     "base_uri": "https://localhost:8080/",
     "height": 514
    },
    "colab_type": "code",
    "id": "utDnJZS1bNg8",
    "outputId": "a9673068-5dd5-42d6-a2dd-428aa7484120"
   },
   "outputs": [
    {
     "data": {
      "text/html": [
       "<div>\n",
       "<style scoped>\n",
       "    .dataframe tbody tr th:only-of-type {\n",
       "        vertical-align: middle;\n",
       "    }\n",
       "\n",
       "    .dataframe tbody tr th {\n",
       "        vertical-align: top;\n",
       "    }\n",
       "\n",
       "    .dataframe thead th {\n",
       "        text-align: right;\n",
       "    }\n",
       "</style>\n",
       "<table border=\"1\" class=\"dataframe\">\n",
       "  <thead>\n",
       "    <tr style=\"text-align: right;\">\n",
       "      <th></th>\n",
       "      <th>taxi_id</th>\n",
       "      <th>distance</th>\n",
       "      <th>duration</th>\n",
       "      <th>start_longitude</th>\n",
       "      <th>start_latitude</th>\n",
       "      <th>end_longitude</th>\n",
       "      <th>end_latitude</th>\n",
       "      <th>occupancy</th>\n",
       "      <th>start_time</th>\n",
       "      <th>end_time</th>\n",
       "      <th>No. of Waypoints</th>\n",
       "      <th>emission</th>\n",
       "      <th>hour</th>\n",
       "      <th>day</th>\n",
       "      <th>weekday</th>\n",
       "      <th>hour_type</th>\n",
       "      <th>pickup_cluster</th>\n",
       "    </tr>\n",
       "    <tr>\n",
       "      <th>trip_id</th>\n",
       "      <th></th>\n",
       "      <th></th>\n",
       "      <th></th>\n",
       "      <th></th>\n",
       "      <th></th>\n",
       "      <th></th>\n",
       "      <th></th>\n",
       "      <th></th>\n",
       "      <th></th>\n",
       "      <th></th>\n",
       "      <th></th>\n",
       "      <th></th>\n",
       "      <th></th>\n",
       "      <th></th>\n",
       "      <th></th>\n",
       "      <th></th>\n",
       "      <th></th>\n",
       "    </tr>\n",
       "  </thead>\n",
       "  <tbody>\n",
       "    <tr>\n",
       "      <th>000a7016-95c0-4a6f-afbd-4eb6a0e0f4e3</th>\n",
       "      <td>new_abgibo</td>\n",
       "      <td>0.543472</td>\n",
       "      <td>3.750000</td>\n",
       "      <td>-122.44625</td>\n",
       "      <td>37.79566</td>\n",
       "      <td>-122.44964</td>\n",
       "      <td>37.79824</td>\n",
       "      <td>0</td>\n",
       "      <td>2008-05-21 00:18:05</td>\n",
       "      <td>2008-05-21 00:21:50</td>\n",
       "      <td>6</td>\n",
       "      <td>136.348394</td>\n",
       "      <td>0</td>\n",
       "      <td>21</td>\n",
       "      <td>2</td>\n",
       "      <td>0</td>\n",
       "      <td>13</td>\n",
       "    </tr>\n",
       "    <tr>\n",
       "      <th>001403cc-e3ca-4b79-91d2-ecf59f160905</th>\n",
       "      <td>new_abdremlu</td>\n",
       "      <td>22.396868</td>\n",
       "      <td>24.266667</td>\n",
       "      <td>-122.39922</td>\n",
       "      <td>37.61946</td>\n",
       "      <td>-122.42014</td>\n",
       "      <td>37.80612</td>\n",
       "      <td>1</td>\n",
       "      <td>2008-05-22 20:58:38</td>\n",
       "      <td>2008-05-22 21:22:54</td>\n",
       "      <td>26</td>\n",
       "      <td>5619.015910</td>\n",
       "      <td>20</td>\n",
       "      <td>22</td>\n",
       "      <td>3</td>\n",
       "      <td>4</td>\n",
       "      <td>30</td>\n",
       "    </tr>\n",
       "    <tr>\n",
       "      <th>001b0894-cd7c-4de2-8b9e-65b230ca05de</th>\n",
       "      <td>new_abdremlu</td>\n",
       "      <td>5.189942</td>\n",
       "      <td>15.133333</td>\n",
       "      <td>-122.42340</td>\n",
       "      <td>37.79338</td>\n",
       "      <td>-122.39837</td>\n",
       "      <td>37.77192</td>\n",
       "      <td>1</td>\n",
       "      <td>2008-05-22 23:21:56</td>\n",
       "      <td>2008-05-22 23:37:04</td>\n",
       "      <td>16</td>\n",
       "      <td>1302.073443</td>\n",
       "      <td>23</td>\n",
       "      <td>22</td>\n",
       "      <td>3</td>\n",
       "      <td>5</td>\n",
       "      <td>0</td>\n",
       "    </tr>\n",
       "    <tr>\n",
       "      <th>0021089d-39f0-47df-a99c-7b47b9442d7c</th>\n",
       "      <td>new_udwadla</td>\n",
       "      <td>1.116952</td>\n",
       "      <td>3.800000</td>\n",
       "      <td>-122.43212</td>\n",
       "      <td>37.79689</td>\n",
       "      <td>-122.42184</td>\n",
       "      <td>37.79624</td>\n",
       "      <td>0</td>\n",
       "      <td>2008-06-02 23:36:46</td>\n",
       "      <td>2008-06-02 23:40:34</td>\n",
       "      <td>6</td>\n",
       "      <td>280.225466</td>\n",
       "      <td>23</td>\n",
       "      <td>2</td>\n",
       "      <td>0</td>\n",
       "      <td>5</td>\n",
       "      <td>13</td>\n",
       "    </tr>\n",
       "    <tr>\n",
       "      <th>00363a3a-2962-4b70-a7a6-f5011d954bbd</th>\n",
       "      <td>new_abgibo</td>\n",
       "      <td>1.986649</td>\n",
       "      <td>5.666667</td>\n",
       "      <td>-122.40230</td>\n",
       "      <td>37.76155</td>\n",
       "      <td>-122.39509</td>\n",
       "      <td>37.75129</td>\n",
       "      <td>0</td>\n",
       "      <td>2008-06-06 08:01:46</td>\n",
       "      <td>2008-06-06 08:07:26</td>\n",
       "      <td>7</td>\n",
       "      <td>498.418399</td>\n",
       "      <td>8</td>\n",
       "      <td>6</td>\n",
       "      <td>4</td>\n",
       "      <td>2</td>\n",
       "      <td>15</td>\n",
       "    </tr>\n",
       "  </tbody>\n",
       "</table>\n",
       "</div>"
      ],
      "text/plain": [
       "                                           taxi_id  ...  pickup_cluster\n",
       "trip_id                                             ...                \n",
       "000a7016-95c0-4a6f-afbd-4eb6a0e0f4e3    new_abgibo  ...              13\n",
       "001403cc-e3ca-4b79-91d2-ecf59f160905  new_abdremlu  ...              30\n",
       "001b0894-cd7c-4de2-8b9e-65b230ca05de  new_abdremlu  ...               0\n",
       "0021089d-39f0-47df-a99c-7b47b9442d7c   new_udwadla  ...              13\n",
       "00363a3a-2962-4b70-a7a6-f5011d954bbd    new_abgibo  ...              15\n",
       "\n",
       "[5 rows x 17 columns]"
      ]
     },
     "execution_count": 48,
     "metadata": {
      "tags": []
     },
     "output_type": "execute_result"
    }
   ],
   "source": [
    "df.head()"
   ]
  },
  {
   "cell_type": "markdown",
   "metadata": {
    "colab_type": "text",
    "id": "sJWOWIbKD4tU"
   },
   "source": [
    "Defining target variables(pick-up latitude and pick-up longitude) and features. We have two target variables, it means we need to do multivariate analysis."
   ]
  },
  {
   "cell_type": "code",
   "execution_count": 0,
   "metadata": {
    "colab": {},
    "colab_type": "code",
    "id": "IWpmknV_AJN_"
   },
   "outputs": [],
   "source": [
    "X = df[['distance', 'duration', 'end_longitude', 'end_latitude', 'occupancy', 'hour', 'day', 'weekday', 'hour_type', 'pickup_cluster']]\n",
    "Y = df[['start_longitude', 'start_latitude']]"
   ]
  },
  {
   "cell_type": "code",
   "execution_count": 0,
   "metadata": {
    "colab": {},
    "colab_type": "code",
    "id": "C1ci0e0vDhl4"
   },
   "outputs": [],
   "source": [
    "# Train test split\n",
    "X_train, X_test, y_train, y_test = train_test_split(X, Y, test_size=0.3, random_state=1)"
   ]
  },
  {
   "cell_type": "markdown",
   "metadata": {
    "colab_type": "text",
    "id": "wS83C4L4EhdZ"
   },
   "source": [
    "#### Multivariate XgBoost"
   ]
  },
  {
   "cell_type": "code",
   "execution_count": 0,
   "metadata": {
    "colab": {
     "base_uri": "https://localhost:8080/",
     "height": 302
    },
    "colab_type": "code",
    "id": "qS5bdTkQEZN1",
    "outputId": "ac1d7629-5020-483b-9d58-dbff737104a3"
   },
   "outputs": [
    {
     "name": "stdout",
     "output_type": "stream",
     "text": [
      "[17:16:08] WARNING: /workspace/src/objective/regression_obj.cu:152: reg:linear is now deprecated in favor of reg:squarederror.\n",
      "[17:16:09] WARNING: /workspace/src/objective/regression_obj.cu:152: reg:linear is now deprecated in favor of reg:squarederror.\n"
     ]
    },
    {
     "data": {
      "text/plain": [
       "MultiOutputRegressor(estimator=XGBRegressor(base_score=0.5, booster='gbtree',\n",
       "                                            colsample_bylevel=1,\n",
       "                                            colsample_bynode=1,\n",
       "                                            colsample_bytree=1, gamma=0,\n",
       "                                            importance_type='gain',\n",
       "                                            learning_rate=0.1, max_delta_step=0,\n",
       "                                            max_depth=3, min_child_weight=1,\n",
       "                                            missing=None, n_estimators=100,\n",
       "                                            n_jobs=1, nthread=None,\n",
       "                                            objective='reg:linear',\n",
       "                                            random_state=0, reg_alpha=0,\n",
       "                                            reg_lambda=1, scale_pos_weight=1,\n",
       "                                            seed=None, silent=None, subsample=1,\n",
       "                                            verbosity=1),\n",
       "                     n_jobs=None)"
      ]
     },
     "execution_count": 63,
     "metadata": {
      "tags": []
     },
     "output_type": "execute_result"
    }
   ],
   "source": [
    "multioutputregressor = MultiOutputRegressor(xgb.XGBRegressor(objective='reg:linear'))\n",
    "multioutputregressor.fit(X_train, y_train)\n",
    "y_pred_xg = multioutputregressor.predict(X_test)"
   ]
  },
  {
   "cell_type": "code",
   "execution_count": 0,
   "metadata": {
    "colab": {
     "base_uri": "https://localhost:8080/",
     "height": 34
    },
    "colab_type": "code",
    "id": "OXxuuxJgGgxy",
    "outputId": "11c336d7-6a0b-40d2-eae8-3332467b6e20"
   },
   "outputs": [
    {
     "data": {
      "text/plain": [
       "0.0003338297535602484"
      ]
     },
     "execution_count": 69,
     "metadata": {
      "tags": []
     },
     "output_type": "execute_result"
    }
   ],
   "source": [
    "mean_squared_error(y_test, y_pred_xg)"
   ]
  },
  {
   "cell_type": "markdown",
   "metadata": {
    "colab_type": "text",
    "id": "jRsJdBlzJfRM"
   },
   "source": [
    "##### Feature Importance for 2 estimators"
   ]
  },
  {
   "cell_type": "code",
   "execution_count": 0,
   "metadata": {
    "colab": {},
    "colab_type": "code",
    "id": "VRBW4lctLP_b"
   },
   "outputs": [],
   "source": [
    "importance_longitude = multioutputregressor.estimators_[0].feature_importances_\n",
    "importance_latitude = multioutputregressor.estimators_[1].feature_importances_"
   ]
  },
  {
   "cell_type": "markdown",
   "metadata": {
    "colab_type": "text",
    "id": "95YEC8SxPp3p"
   },
   "source": [
    "###### Feature Importance for Longitude"
   ]
  },
  {
   "cell_type": "code",
   "execution_count": 0,
   "metadata": {
    "colab": {
     "base_uri": "https://localhost:8080/",
     "height": 521
    },
    "colab_type": "code",
    "id": "OgYDjrbVLme2",
    "outputId": "25df60ff-0b1c-4d71-b07d-1241d79e7201"
   },
   "outputs": [
    {
     "name": "stdout",
     "output_type": "stream",
     "text": [
      "Feature ranking:\n",
      "pickup_cluster: 0.21243558824062347\n",
      "occupancy: 0.2054966241121292\n",
      "distance: 0.1660332828760147\n",
      "duration: 0.15832246840000153\n",
      "end_longitude: 0.13817636668682098\n",
      "end_latitude: 0.11943280696868896\n",
      "weekday: 0.00010292112710885704\n",
      "hour_type: 0.0\n",
      "day: 0.0\n",
      "hour: 0.0\n"
     ]
    },
    {
     "data": {
      "image/png": "[encoded data removed]",
      "text/plain": [
       "<Figure size 1080x360 with 1 Axes>"
      ]
     },
     "metadata": {
      "tags": []
     },
     "output_type": "display_data"
    }
   ],
   "source": [
    "indices = np.argsort(importance_longitude)[::-1]\n",
    "# Plot the feature importancies of the multivariate xgBoost\n",
    "num_to_plot = X.columns.shape[0]\n",
    "feature_indices = [ind+1 for ind in indices[:num_to_plot]]\n",
    "\n",
    "# Print the feature ranking\n",
    "print(\"Feature ranking:\")\n",
    "  \n",
    "for f in range(num_to_plot):\n",
    "    print(f\"{X.columns[feature_indices[f]-1]}: {importance_longitude[indices[f]]}\")\n",
    "plt.figure(figsize=(15,5))\n",
    "plt.title(u\"Feature Importance for Longitude\")\n",
    "bars = plt.bar(range(num_to_plot), \n",
    "               importance_longitude[indices[:num_to_plot]],\n",
    "       color=([str(i/float(num_to_plot+1)) \n",
    "               for i in range(num_to_plot)]),\n",
    "               align=\"center\")\n",
    "ticks = plt.xticks(range(num_to_plot), \n",
    "                   feature_indices)\n",
    "# plt.xlim([-1, num_to_plot])\n",
    "plt.legend(bars, [u''.join(X.columns[i-1]) \n",
    "                  for i in feature_indices]);"
   ]
  },
  {
   "cell_type": "markdown",
   "metadata": {
    "colab_type": "text",
    "id": "g_DAQoTHP0Sr"
   },
   "source": [
    "###### Feature Importance for Latitude"
   ]
  },
  {
   "cell_type": "code",
   "execution_count": 0,
   "metadata": {
    "colab": {
     "base_uri": "https://localhost:8080/",
     "height": 521
    },
    "colab_type": "code",
    "id": "LWVOiLy8Ps_h",
    "outputId": "bed9b69c-3221-4efd-a77b-360dab4bfd00"
   },
   "outputs": [
    {
     "name": "stdout",
     "output_type": "stream",
     "text": [
      "Feature ranking:\n",
      "end_latitude: 0.4291689097881317\n",
      "pickup_cluster: 0.26370570063591003\n",
      "distance: 0.13900373876094818\n",
      "duration: 0.07614041119813919\n",
      "occupancy: 0.057326480746269226\n",
      "end_longitude: 0.03279740363359451\n",
      "hour: 0.0018573628040030599\n",
      "hour_type: 0.0\n",
      "weekday: 0.0\n",
      "day: 0.0\n"
     ]
    },
    {
     "data": {
      "image/png": "[encoded data removed]",
      "text/plain": [
       "<Figure size 1080x360 with 1 Axes>"
      ]
     },
     "metadata": {
      "tags": []
     },
     "output_type": "display_data"
    }
   ],
   "source": [
    "indices = np.argsort(importance_latitude)[::-1]\n",
    "# Plot the feature importancies of the multivariate xgBoost\n",
    "num_to_plot = X.columns.shape[0]\n",
    "feature_indices = [ind+1 for ind in indices[:num_to_plot]]\n",
    "\n",
    "# Print the feature ranking\n",
    "print(\"Feature ranking:\")\n",
    "  \n",
    "for f in range(num_to_plot):\n",
    "    print(f\"{X.columns[feature_indices[f]-1]}: {importance_latitude[indices[f]]}\")\n",
    "plt.figure(figsize=(15,5))\n",
    "plt.title(u\"Feature Importance for Latitude\")\n",
    "bars = plt.bar(range(num_to_plot), \n",
    "               importance_latitude[indices[:num_to_plot]],\n",
    "       color=([str(i/float(num_to_plot+1)) \n",
    "               for i in range(num_to_plot)]),\n",
    "               align=\"center\")\n",
    "ticks = plt.xticks(range(num_to_plot), \n",
    "                   feature_indices)\n",
    "# plt.xlim([-1, num_to_plot])\n",
    "plt.legend(bars, [u''.join(X.columns[i-1]) \n",
    "                  for i in feature_indices]);"
   ]
  },
  {
   "cell_type": "markdown",
   "metadata": {
    "colab_type": "text",
    "id": "XrZO0_cDHr9p"
   },
   "source": [
    "#### Multivariate Linear Regression"
   ]
  },
  {
   "cell_type": "code",
   "execution_count": 0,
   "metadata": {
    "colab": {
     "base_uri": "https://localhost:8080/",
     "height": 34
    },
    "colab_type": "code",
    "id": "OsFG3dsVGYeX",
    "outputId": "5eb1e24a-6535-4840-926d-9773a2d2a347"
   },
   "outputs": [
    {
     "name": "stdout",
     "output_type": "stream",
     "text": [
      "Mean squared error 0.0012672351742889988\n"
     ]
    }
   ],
   "source": [
    "multioutput_lr = MultiOutputRegressor(LinearRegression())\n",
    "multioutput_lr.fit(X_train, y_train)\n",
    "y_pred_lr = multioutput_lr.predict(X_test)\n",
    "print('Mean squared error', mean_squared_error(y_test, y_pred_lr))"
   ]
  },
  {
   "cell_type": "markdown",
   "metadata": {
    "colab_type": "text",
    "id": "L23lRyHBRFzm"
   },
   "source": [
    "Coefficients for 2 target variables"
   ]
  },
  {
   "cell_type": "code",
   "execution_count": 0,
   "metadata": {
    "colab": {
     "base_uri": "https://localhost:8080/",
     "height": 67
    },
    "colab_type": "code",
    "id": "wJ919xw-GZiX",
    "outputId": "54180607-77f5-4b33-bfaa-386218e2e17d"
   },
   "outputs": [
    {
     "data": {
      "text/plain": [
       "array([ 2.35834176e-05, -1.66288974e-06,  3.00185753e-01, -3.58412563e-02,\n",
       "       -3.77689026e-03,  3.72960146e-04, -9.29015932e-05, -3.62455733e-04,\n",
       "       -1.23901020e-03, -3.02368967e-04])"
      ]
     },
     "execution_count": 114,
     "metadata": {
      "tags": []
     },
     "output_type": "execute_result"
    }
   ],
   "source": [
    "multioutput_lr.estimators_[0].coef_"
   ]
  },
  {
   "cell_type": "code",
   "execution_count": 0,
   "metadata": {
    "colab": {
     "base_uri": "https://localhost:8080/",
     "height": 67
    },
    "colab_type": "code",
    "id": "RepczEsAQxHz",
    "outputId": "0270a6c4-e944-46d9-d122-b56fcc44d17b"
   },
   "outputs": [
    {
     "data": {
      "text/plain": [
       "array([-7.14840611e-05,  5.09423154e-07, -4.57151965e-02,  3.63109032e-01,\n",
       "        1.29725092e-03, -6.61647820e-04,  1.25341118e-04,  3.12256380e-04,\n",
       "        1.63903130e-03,  7.35838617e-04])"
      ]
     },
     "execution_count": 115,
     "metadata": {
      "tags": []
     },
     "output_type": "execute_result"
    }
   ],
   "source": [
    "multioutput_lr.estimators_[1].coef_"
   ]
  },
  {
   "cell_type": "markdown",
   "metadata": {
    "colab_type": "text",
    "id": "0PmZYvqThN9i"
   },
   "source": [
    "### Time Series prediction Model (in devolopment)"
   ]
  },
  {
   "cell_type": "markdown",
   "metadata": {
    "colab_type": "text",
    "id": "cV9kAYWrhepi"
   },
   "source": [
    "Given a region and a 10 min interval, we have to predict pickups.\n",
    "\n",
    "(a): How to break up the San Francisco into regions?\n",
    "\n",
    "(b): Every region of San Francisco has to be broken up into 10 min interval.\n",
    "\n",
    "Now, every row pickup has longitude and latitude in it, and we will use this to define pickup regions.\n",
    "We already know, about the pickup at time ‘t’, we will predict the pickup at time ‘t+1’ in the same region. Hence, this problem can be thought of as a ‘*Time Series Prediction*’ problem. It is a special case of regression problems. In short, we will use the data at time ‘t’ to predict for time ‘t+1’."
   ]
  },
  {
   "cell_type": "code",
   "execution_count": 0,
   "metadata": {
    "colab": {},
    "colab_type": "code",
    "id": "ooLXzR5lhf2q"
   },
   "outputs": [],
   "source": []
  }
 ],
 "metadata": {
  "accelerator": "GPU",
  "colab": {
   "name": "Copy of Next location predictor.ipynb",
   "provenance": []
  },
  "kernelspec": {
   "display_name": "Python 3",
   "language": "python",
   "name": "python3"
  },
  "language_info": {
   "codemirror_mode": {
    "name": "ipython",
    "version": 3
   },
   "file_extension": ".py",
   "mimetype": "text/x-python",
   "name": "python",
   "nbconvert_exporter": "python",
   "pygments_lexer": "ipython3",
   "version": "3.6.8"
  }
 },
 "nbformat": 4,
 "nbformat_minor": 1
}
