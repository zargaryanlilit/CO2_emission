{
  "nbformat": 4,
  "nbformat_minor": 0,
  "metadata": {
    "kernelspec": {
      "name": "python3",
      "display_name": "Python 3"
    },
    "language_info": {
      "codemirror_mode": {
        "name": "ipython",
        "version": 3
      },
      "file_extension": ".py",
      "mimetype": "text/x-python",
      "name": "python",
      "nbconvert_exporter": "python",
      "pygments_lexer": "ipython3",
      "version": "3.6.8"
    },
    "colab": {
      "name": "Next location predictor.ipynb",
      "provenance": [],
      "collapsed_sections": []
    },
    "accelerator": "GPU"
  },
  "cells": [
    {
      "cell_type": "markdown",
      "metadata": {
        "id": "0dhob3lPspfQ",
        "colab_type": "text"
      },
      "source": [
        "## Loading Data"
      ]
    },
    {
      "cell_type": "code",
      "metadata": {
        "id": "naZw7WwkspfV",
        "colab_type": "code",
        "colab": {}
      },
      "source": [
        "import os\n",
        "import uuid \n",
        "import pandas as pd\n",
        "import numpy as np\n",
        "import matplotlib.pyplot as plt\n",
        "import xgboost as xgb\n",
        "from sklearn.metrics import mean_squared_error\n",
        "from sklearn.linear_model import LinearRegression\n",
        "from sklearn.multioutput import MultiOutputRegressor\n",
        "from sklearn.cluster import MiniBatchKMeans\n",
        "from sklearn.metrics import silhouette_score\n",
        "from sklearn.model_selection import train_test_split\n",
        "import warnings\n",
        "warnings. filterwarnings('ignore')"
      ],
      "execution_count": 0,
      "outputs": []
    },
    {
      "cell_type": "code",
      "metadata": {
        "id": "1vTUin3LucXY",
        "colab_type": "code",
        "outputId": "b7ecd694-5f96-4bca-ac7e-3f01e7177968",
        "colab": {
          "base_uri": "https://localhost:8080/",
          "height": 35
        }
      },
      "source": [
        "from google.colab import drive\n",
        "drive.mount('/content/drive')"
      ],
      "execution_count": 92,
      "outputs": [
        {
          "output_type": "stream",
          "text": [
            "Drive already mounted at /content/drive; to attempt to forcibly remount, call drive.mount(\"/content/drive\", force_remount=True).\n"
          ],
          "name": "stdout"
        }
      ]
    },
    {
      "cell_type": "code",
      "metadata": {
        "id": "Jkyh0KLVspfb",
        "colab_type": "code",
        "colab": {}
      },
      "source": [
        "data_path = '/content/drive/My Drive/Colab Notebooks/cabspottingdata'\n",
        "txt_file_names = os.listdir(data_path)\n",
        "\n",
        "taxi_dfs = []\n",
        "\n",
        "for file_name in txt_file_names[:10]:\n",
        "    data = pd.read_csv(os.path.join(data_path, file_name), sep=' ', \n",
        "                   header=None, names = ['latitude', 'longitude', 'occupancy', 'time'])\n",
        "    data['time'] = pd.to_datetime(data['time'], unit='s')\n",
        "    data['taxi_id'] = file_name.split('.')[0]\n",
        "    taxi_dfs.append(data)\n"
      ],
      "execution_count": 0,
      "outputs": []
    },
    {
      "cell_type": "code",
      "metadata": {
        "id": "jrnOhqND0lRz",
        "colab_type": "code",
        "colab": {}
      },
      "source": [
        "data = pd.concat(taxi_dfs, ignore_index=True)"
      ],
      "execution_count": 0,
      "outputs": []
    },
    {
      "cell_type": "code",
      "metadata": {
        "id": "NUoLY-gispfh",
        "colab_type": "code",
        "outputId": "26cfcc57-33c2-4317-96a3-3d8634304e8d",
        "colab": {
          "base_uri": "https://localhost:8080/",
          "height": 35
        }
      },
      "source": [
        "len(data)"
      ],
      "execution_count": 96,
      "outputs": [
        {
          "output_type": "execute_result",
          "data": {
            "text/plain": [
              "226925"
            ]
          },
          "metadata": {
            "tags": []
          },
          "execution_count": 96
        }
      ]
    },
    {
      "cell_type": "code",
      "metadata": {
        "id": "nFLGz8ggg5hy",
        "colab_type": "code",
        "outputId": "64871cf2-6118-4a2b-e8f7-c7db6ef890a0",
        "colab": {
          "base_uri": "https://localhost:8080/",
          "height": 202
        }
      },
      "source": [
        "data.head()"
      ],
      "execution_count": 97,
      "outputs": [
        {
          "output_type": "execute_result",
          "data": {
            "text/html": [
              "<div>\n",
              "<style scoped>\n",
              "    .dataframe tbody tr th:only-of-type {\n",
              "        vertical-align: middle;\n",
              "    }\n",
              "\n",
              "    .dataframe tbody tr th {\n",
              "        vertical-align: top;\n",
              "    }\n",
              "\n",
              "    .dataframe thead th {\n",
              "        text-align: right;\n",
              "    }\n",
              "</style>\n",
              "<table border=\"1\" class=\"dataframe\">\n",
              "  <thead>\n",
              "    <tr style=\"text-align: right;\">\n",
              "      <th></th>\n",
              "      <th>latitude</th>\n",
              "      <th>longitude</th>\n",
              "      <th>occupancy</th>\n",
              "      <th>time</th>\n",
              "      <th>taxi_id</th>\n",
              "    </tr>\n",
              "  </thead>\n",
              "  <tbody>\n",
              "    <tr>\n",
              "      <th>0</th>\n",
              "      <td>37.78615</td>\n",
              "      <td>-122.40628</td>\n",
              "      <td>1</td>\n",
              "      <td>2008-05-17 10:00:42</td>\n",
              "      <td>new_auctjir</td>\n",
              "    </tr>\n",
              "    <tr>\n",
              "      <th>1</th>\n",
              "      <td>37.78620</td>\n",
              "      <td>-122.40181</td>\n",
              "      <td>1</td>\n",
              "      <td>2008-05-17 10:01:43</td>\n",
              "      <td>new_auctjir</td>\n",
              "    </tr>\n",
              "    <tr>\n",
              "      <th>2</th>\n",
              "      <td>37.78629</td>\n",
              "      <td>-122.39917</td>\n",
              "      <td>1</td>\n",
              "      <td>2008-05-17 10:02:43</td>\n",
              "      <td>new_auctjir</td>\n",
              "    </tr>\n",
              "    <tr>\n",
              "      <th>3</th>\n",
              "      <td>37.78618</td>\n",
              "      <td>-122.40140</td>\n",
              "      <td>1</td>\n",
              "      <td>2008-05-17 10:03:53</td>\n",
              "      <td>new_auctjir</td>\n",
              "    </tr>\n",
              "    <tr>\n",
              "      <th>4</th>\n",
              "      <td>37.78655</td>\n",
              "      <td>-122.40231</td>\n",
              "      <td>1</td>\n",
              "      <td>2008-05-17 10:04:54</td>\n",
              "      <td>new_auctjir</td>\n",
              "    </tr>\n",
              "  </tbody>\n",
              "</table>\n",
              "</div>"
            ],
            "text/plain": [
              "   latitude  longitude  occupancy                time      taxi_id\n",
              "0  37.78615 -122.40628          1 2008-05-17 10:00:42  new_auctjir\n",
              "1  37.78620 -122.40181          1 2008-05-17 10:01:43  new_auctjir\n",
              "2  37.78629 -122.39917          1 2008-05-17 10:02:43  new_auctjir\n",
              "3  37.78618 -122.40140          1 2008-05-17 10:03:53  new_auctjir\n",
              "4  37.78655 -122.40231          1 2008-05-17 10:04:54  new_auctjir"
            ]
          },
          "metadata": {
            "tags": []
          },
          "execution_count": 97
        }
      ]
    },
    {
      "cell_type": "markdown",
      "metadata": {
        "id": "OgzmRkKGspfm",
        "colab_type": "text"
      },
      "source": [
        "## Preprocessing Data"
      ]
    },
    {
      "cell_type": "markdown",
      "metadata": {
        "id": "rJLp4Ccqspfo",
        "colab_type": "text"
      },
      "source": [
        "#### Calculation of Geographical Distance"
      ]
    },
    {
      "cell_type": "markdown",
      "metadata": {
        "id": "0AX_sg0Lspfq",
        "colab_type": "text"
      },
      "source": [
        "Previous work with GPS trace data and distances mostly\n",
        "considered Euclidian distance between two points. However,\n",
        "this calculation completely ignores the fact that the earth is\n",
        "round yielding incorrect results. Of all available methods Equi-rectangular approximation is preferred\n",
        "for faster system performance."
      ]
    },
    {
      "cell_type": "markdown",
      "metadata": {
        "id": "JIIq0xUMspft",
        "colab_type": "text"
      },
      "source": [
        "Equirectangular approximation\n",
        "Formula hear\n",
        "Here, R is the radius of earth (6371 km)."
      ]
    },
    {
      "cell_type": "code",
      "metadata": {
        "id": "T0H4MuqPspfv",
        "colab_type": "code",
        "colab": {}
      },
      "source": [
        "EARTH_RADIUS = 6371  # km"
      ],
      "execution_count": 0,
      "outputs": []
    },
    {
      "cell_type": "code",
      "metadata": {
        "id": "h1eUWS9cspf1",
        "colab_type": "code",
        "colab": {}
      },
      "source": [
        "prev_occupancy = data.iloc[0, data.columns.get_loc('occupancy')]\n",
        "prev_taxi_id = data.iloc[0, data.columns.get_loc('taxi_id')]\n",
        "trip_id = uuid.uuid4()\n",
        "data['trip_id'] = ''\n",
        "data['drop_off_latitude'] = ''\n",
        "data['drop_off_longitude'] = ''\n",
        "data['drop_off_time']  = ''\n",
        "for index, row in data.iterrows():\n",
        "    # generating trip id's for consecutive trips of with or without passenger\n",
        "    if row['occupancy'] != prev_occupancy or row['taxi_id'] != prev_taxi_id:\n",
        "        trip_id = uuid.uuid4()\n",
        "        data.iloc[index, data.columns.get_loc('trip_id')] = trip_id\n",
        "        data.iloc[index-1, data.columns.get_loc('drop_off_latitude')] = row['latitude']\n",
        "        data.iloc[index-1, data.columns.get_loc('drop_off_longitude')] = row['longitude']\n",
        "        data.iloc[index-1, data.columns.get_loc('drop_off_time')] = row['time']\n",
        "    else:\n",
        "        data.iloc[index, data.columns.get_loc('trip_id')] = trip_id\n",
        "    prev_occupancy, prev_taxi_id = row['occupancy'], row['taxi_id']\n",
        "data.iloc[-1, data.columns.get_loc('drop_off_latitude')] = data.iloc[-1, data.columns.get_loc('latitude')]\n",
        "data.iloc[-1, data.columns.get_loc('drop_off_longitude')] = data.iloc[-1, data.columns.get_loc('longitude')]\n",
        "data.iloc[-1, data.columns.get_loc('drop_off_time')] = data.iloc[-1, data.columns.get_loc('time')]"
      ],
      "execution_count": 0,
      "outputs": []
    },
    {
      "cell_type": "code",
      "metadata": {
        "id": "zgDd0_-C_jgs",
        "colab_type": "code",
        "outputId": "eb86b809-6d23-4995-817e-75218e58917c",
        "colab": {
          "base_uri": "https://localhost:8080/",
          "height": 289
        }
      },
      "source": [
        "data.head()"
      ],
      "execution_count": 11,
      "outputs": [
        {
          "output_type": "execute_result",
          "data": {
            "text/html": [
              "<div>\n",
              "<style scoped>\n",
              "    .dataframe tbody tr th:only-of-type {\n",
              "        vertical-align: middle;\n",
              "    }\n",
              "\n",
              "    .dataframe tbody tr th {\n",
              "        vertical-align: top;\n",
              "    }\n",
              "\n",
              "    .dataframe thead th {\n",
              "        text-align: right;\n",
              "    }\n",
              "</style>\n",
              "<table border=\"1\" class=\"dataframe\">\n",
              "  <thead>\n",
              "    <tr style=\"text-align: right;\">\n",
              "      <th></th>\n",
              "      <th>latitude</th>\n",
              "      <th>longitude</th>\n",
              "      <th>occupancy</th>\n",
              "      <th>time</th>\n",
              "      <th>taxi_id</th>\n",
              "      <th>trip_id</th>\n",
              "      <th>drop_off_latitude</th>\n",
              "      <th>drop_off_longitude</th>\n",
              "      <th>drop_off_time</th>\n",
              "    </tr>\n",
              "  </thead>\n",
              "  <tbody>\n",
              "    <tr>\n",
              "      <th>0</th>\n",
              "      <td>37.78615</td>\n",
              "      <td>-122.40628</td>\n",
              "      <td>1</td>\n",
              "      <td>2008-05-17 10:00:42</td>\n",
              "      <td>new_auctjir</td>\n",
              "      <td>1b36ff61-7029-4ae3-936b-34d1787dcf0b</td>\n",
              "      <td></td>\n",
              "      <td></td>\n",
              "      <td></td>\n",
              "    </tr>\n",
              "    <tr>\n",
              "      <th>1</th>\n",
              "      <td>37.78620</td>\n",
              "      <td>-122.40181</td>\n",
              "      <td>1</td>\n",
              "      <td>2008-05-17 10:01:43</td>\n",
              "      <td>new_auctjir</td>\n",
              "      <td>1b36ff61-7029-4ae3-936b-34d1787dcf0b</td>\n",
              "      <td></td>\n",
              "      <td></td>\n",
              "      <td></td>\n",
              "    </tr>\n",
              "    <tr>\n",
              "      <th>2</th>\n",
              "      <td>37.78629</td>\n",
              "      <td>-122.39917</td>\n",
              "      <td>1</td>\n",
              "      <td>2008-05-17 10:02:43</td>\n",
              "      <td>new_auctjir</td>\n",
              "      <td>1b36ff61-7029-4ae3-936b-34d1787dcf0b</td>\n",
              "      <td></td>\n",
              "      <td></td>\n",
              "      <td></td>\n",
              "    </tr>\n",
              "    <tr>\n",
              "      <th>3</th>\n",
              "      <td>37.78618</td>\n",
              "      <td>-122.40140</td>\n",
              "      <td>1</td>\n",
              "      <td>2008-05-17 10:03:53</td>\n",
              "      <td>new_auctjir</td>\n",
              "      <td>1b36ff61-7029-4ae3-936b-34d1787dcf0b</td>\n",
              "      <td></td>\n",
              "      <td></td>\n",
              "      <td></td>\n",
              "    </tr>\n",
              "    <tr>\n",
              "      <th>4</th>\n",
              "      <td>37.78655</td>\n",
              "      <td>-122.40231</td>\n",
              "      <td>1</td>\n",
              "      <td>2008-05-17 10:04:54</td>\n",
              "      <td>new_auctjir</td>\n",
              "      <td>1b36ff61-7029-4ae3-936b-34d1787dcf0b</td>\n",
              "      <td></td>\n",
              "      <td></td>\n",
              "      <td></td>\n",
              "    </tr>\n",
              "  </tbody>\n",
              "</table>\n",
              "</div>"
            ],
            "text/plain": [
              "   latitude  longitude  ...  drop_off_longitude drop_off_time\n",
              "0  37.78615 -122.40628  ...                                  \n",
              "1  37.78620 -122.40181  ...                                  \n",
              "2  37.78629 -122.39917  ...                                  \n",
              "3  37.78618 -122.40140  ...                                  \n",
              "4  37.78655 -122.40231  ...                                  \n",
              "\n",
              "[5 rows x 9 columns]"
            ]
          },
          "metadata": {
            "tags": []
          },
          "execution_count": 11
        }
      ]
    },
    {
      "cell_type": "code",
      "metadata": {
        "id": "MraNUg5Ospf7",
        "colab_type": "code",
        "colab": {}
      },
      "source": [
        "# Aggregating functions\n",
        "\n",
        "def total_dist(group):\n",
        "    lat = np.radians(group.latitude)\n",
        "    lon = np.radians(group.longitude)\n",
        "    endLon = lon.shift(-1, fill_value=np.radians(group['drop_off_longitude'].iloc[-1]))\n",
        "    endLat = lat.shift(-1, fill_value=np.radians(group['drop_off_latitude'].iloc[-1]))\n",
        "    x = (endLon - lon) * np.cos(0.5 * (endLat + lat))\n",
        "    y = endLat - lat\n",
        "    D = EARTH_RADIUS * np.sqrt(x ** 2 + y ** 2)\n",
        "    return D.sum()\n",
        "\n",
        "def total_duration(group):\n",
        "    start_time = group['time']\n",
        "    end_time = start_time.shift(-1, fill_value=group['drop_off_time'].iloc[-1])\n",
        "    durations = (end_time - start_time).astype('timedelta64[s]')/60\n",
        "    return durations.sum()\n",
        "\n",
        "def first_record_of_column(group, column):\n",
        "    return group.iloc[0, group.columns.get_loc(column)]\n",
        "\n",
        "def last_record_of_column(group, column):\n",
        "    return group.iloc[-1, group.columns.get_loc(column)]\n",
        "\n",
        "def trip_statistics(trip):\n",
        "    return pd.Series({\"taxi_id\": first_record_of_column(trip, 'taxi_id'),\n",
        "                      \"distance\": total_dist(trip),\n",
        "                      \"duration\": total_duration(trip),\n",
        "                      \"start_longitude\": first_record_of_column(trip, 'longitude'),\n",
        "                      \"start_latitude\": first_record_of_column(trip, 'latitude'),\n",
        "                      \"end_longitude\": last_record_of_column(trip, 'longitude'),\n",
        "                      \"end_latitude\": last_record_of_column(trip, 'latitude'),\n",
        "                      \"occupancy\": first_record_of_column(trip, 'occupancy'),\n",
        "                      \"start_time\": first_record_of_column(trip, 'time'),\n",
        "                      \"end_time\": last_record_of_column(trip, 'time'),\n",
        "                      \"No. of Waypoints\": len(trip)})"
      ],
      "execution_count": 0,
      "outputs": []
    },
    {
      "cell_type": "code",
      "metadata": {
        "id": "hdJ1Ew6AspgA",
        "colab_type": "code",
        "colab": {}
      },
      "source": [
        "aggregated_data = data.groupby(\"trip_id\").apply(trip_statistics)"
      ],
      "execution_count": 0,
      "outputs": []
    },
    {
      "cell_type": "code",
      "metadata": {
        "id": "sA8LmAbOQ0F0",
        "colab_type": "code",
        "outputId": "9173e0f3-b0ae-4a0e-9243-13b25ca747e5",
        "colab": {
          "base_uri": "https://localhost:8080/",
          "height": 295
        }
      },
      "source": [
        "aggregated_data.info()"
      ],
      "execution_count": 14,
      "outputs": [
        {
          "output_type": "stream",
          "text": [
            "<class 'pandas.core.frame.DataFrame'>\n",
            "Index: 1880 entries, 0001e4d0-e053-4dda-9e0a-d2f042f122ae to ffcaefc6-b5e3-405f-8f08-68c2be8a5d8e\n",
            "Data columns (total 11 columns):\n",
            "taxi_id             1880 non-null object\n",
            "distance            1880 non-null float64\n",
            "duration            1880 non-null float64\n",
            "start_longitude     1880 non-null float64\n",
            "start_latitude      1880 non-null float64\n",
            "end_longitude       1880 non-null float64\n",
            "end_latitude        1880 non-null float64\n",
            "occupancy           1880 non-null int64\n",
            "start_time          1880 non-null datetime64[ns]\n",
            "end_time            1880 non-null datetime64[ns]\n",
            "No. of Waypoints    1880 non-null int64\n",
            "dtypes: datetime64[ns](2), float64(6), int64(2), object(1)\n",
            "memory usage: 176.2+ KB\n"
          ],
          "name": "stdout"
        }
      ]
    },
    {
      "cell_type": "code",
      "metadata": {
        "id": "yW1Och7THigF",
        "colab_type": "code",
        "colab": {}
      },
      "source": [
        "KM2MILE = 0.621\n",
        "AVERAGE_EMISSION = 404 # gram\n",
        "TAXI_FLEET_CHANGE_RATE = 0.1"
      ],
      "execution_count": 0,
      "outputs": []
    },
    {
      "cell_type": "code",
      "metadata": {
        "id": "quyc7EPZHbta",
        "colab_type": "code",
        "colab": {}
      },
      "source": [
        "aggregated_data['emission'] = aggregated_data['distance'] * KM2MILE * AVERAGE_EMISSION"
      ],
      "execution_count": 0,
      "outputs": []
    },
    {
      "cell_type": "code",
      "metadata": {
        "id": "jE2kYnwOspgF",
        "colab_type": "code",
        "colab": {}
      },
      "source": [
        "free_ride_emission = aggregated_data[aggregated_data['occupancy'] == 0].groupby(\"taxi_id\").sum()['emission']"
      ],
      "execution_count": 0,
      "outputs": []
    },
    {
      "cell_type": "code",
      "metadata": {
        "id": "0vyCGM3EKv0i",
        "colab_type": "code",
        "colab": {}
      },
      "source": [
        "free_ride_emission = free_ride_emission.sort_values(ascending=False)"
      ],
      "execution_count": 0,
      "outputs": []
    },
    {
      "cell_type": "code",
      "metadata": {
        "id": "6tKtu7FwPSWH",
        "colab_type": "code",
        "outputId": "e31466e4-f266-4821-9836-7ab6e66e9efb",
        "colab": {
          "base_uri": "https://localhost:8080/",
          "height": 69
        }
      },
      "source": [
        "free_ride_emission"
      ],
      "execution_count": 19,
      "outputs": [
        {
          "output_type": "execute_result",
          "data": {
            "text/plain": [
              "taxi_id\n",
              "new_auctjir    1.070846e+06\n",
              "Name: emission, dtype: float64"
            ]
          },
          "metadata": {
            "tags": []
          },
          "execution_count": 19
        }
      ]
    },
    {
      "cell_type": "code",
      "metadata": {
        "id": "z-qTiZ3VOGB-",
        "colab_type": "code",
        "colab": {}
      },
      "source": [
        "yearly_replacment_count = int(free_ride_emission.shape[0] * (1 - (1 - TAXI_FLEET_CHANGE_RATE) ** 12))"
      ],
      "execution_count": 0,
      "outputs": []
    },
    {
      "cell_type": "code",
      "metadata": {
        "id": "DsdAfAuwQ6_o",
        "colab_type": "code",
        "outputId": "b2e2a544-59d2-4b02-eb8d-5274185955cf",
        "colab": {
          "base_uri": "https://localhost:8080/",
          "height": 35
        }
      },
      "source": [
        "yearly_replacment_count"
      ],
      "execution_count": 21,
      "outputs": [
        {
          "output_type": "execute_result",
          "data": {
            "text/plain": [
              "0"
            ]
          },
          "metadata": {
            "tags": []
          },
          "execution_count": 21
        }
      ]
    },
    {
      "cell_type": "markdown",
      "metadata": {
        "id": "xagQKi1tRH9R",
        "colab_type": "text"
      },
      "source": [
        "### Question 1. Yearly Potential Reduction of CO2 Emmission"
      ]
    },
    {
      "cell_type": "code",
      "metadata": {
        "id": "EV9X4TsGPHZh",
        "colab_type": "code",
        "outputId": "c6be968b-8e1a-4d1b-ff80-0695a202c89e",
        "colab": {
          "base_uri": "https://localhost:8080/",
          "height": 35
        }
      },
      "source": [
        "free_ride_emission.iloc[:yearly_replacment_count].sum()"
      ],
      "execution_count": 22,
      "outputs": [
        {
          "output_type": "execute_result",
          "data": {
            "text/plain": [
              "0.0"
            ]
          },
          "metadata": {
            "tags": []
          },
          "execution_count": 22
        }
      ]
    },
    {
      "cell_type": "markdown",
      "metadata": {
        "id": "hrZzjjCM-r4o",
        "colab_type": "text"
      },
      "source": [
        "Here, we can see the plot of average trip duration depending on occupancy. Non-occupied Average trip duration is greater than occupied average trip duration."
      ]
    },
    {
      "cell_type": "code",
      "metadata": {
        "id": "FbN8Hg1oSNmf",
        "colab_type": "code",
        "outputId": "37186fc3-874d-4aaf-cc84-dd5e59ce5ee5",
        "colab": {
          "base_uri": "https://localhost:8080/",
          "height": 69
        }
      },
      "source": [
        "aggregated_data['occupancy'].value_counts()"
      ],
      "execution_count": 23,
      "outputs": [
        {
          "output_type": "execute_result",
          "data": {
            "text/plain": [
              "1    940\n",
              "0    940\n",
              "Name: occupancy, dtype: int64"
            ]
          },
          "metadata": {
            "tags": []
          },
          "execution_count": 23
        }
      ]
    },
    {
      "cell_type": "code",
      "metadata": {
        "id": "e_opwIfgDE6f",
        "colab_type": "code",
        "outputId": "97805f6a-4625-4d25-8c2b-a058ebfc8387",
        "colab": {
          "base_uri": "https://localhost:8080/",
          "height": 295
        }
      },
      "source": [
        "plot_duration = aggregated_data.groupby('occupancy')['duration'].mean()\n",
        "plt.bar(plot_duration.index, plot_duration.values)\n",
        "plt.xticks(plot_duration.index)\n",
        "plt.title(\"Average Duration for Non-Occupied and Occupied trips\")\n",
        "plt.xlabel('occupancy')\n",
        "plt.ylabel('Average Duration')\n",
        "plt.show();"
      ],
      "execution_count": 24,
      "outputs": [
        {
          "output_type": "display_data",
          "data": {
            "image/png": "[encoded data removed]",
            "text/plain": [
              "<Figure size 432x288 with 1 Axes>"
            ]
          },
          "metadata": {
            "tags": []
          }
        }
      ]
    },
    {
      "cell_type": "markdown",
      "metadata": {
        "id": "cHSEFwUPK8ra",
        "colab_type": "text"
      },
      "source": [
        "We can see that average distance is greater for occupied trips."
      ]
    },
    {
      "cell_type": "code",
      "metadata": {
        "id": "7mJ58laUGeGT",
        "colab_type": "code",
        "outputId": "06fe76d0-d8dc-48af-d53f-7f1f951496fe",
        "colab": {
          "base_uri": "https://localhost:8080/",
          "height": 295
        }
      },
      "source": [
        "plot_distance = aggregated_data.groupby('occupancy')['distance'].mean()\n",
        "plt.bar(plot_distance.index, plot_distance.values)\n",
        "plt.xticks(plot_distance.index)\n",
        "plt.title(\"Average Distance for Non-Occupied and Occupied trips\")\n",
        "plt.xlabel('occupancy')\n",
        "plt.ylabel('Average Distance')\n",
        "plt.show();"
      ],
      "execution_count": 25,
      "outputs": [
        {
          "output_type": "display_data",
          "data": {
            "image/png": "[encoded data removed]",
            "text/plain": [
              "<Figure size 432x288 with 1 Axes>"
            ]
          },
          "metadata": {
            "tags": []
          }
        }
      ]
    },
    {
      "cell_type": "code",
      "metadata": {
        "id": "7JnQj1uSQdcM",
        "colab_type": "code",
        "outputId": "c2a74783-8099-4b45-909a-0c511a9c738b",
        "colab": {
          "base_uri": "https://localhost:8080/",
          "height": 173
        }
      },
      "source": [
        "aggregated_data['duration'].describe()"
      ],
      "execution_count": 26,
      "outputs": [
        {
          "output_type": "execute_result",
          "data": {
            "text/plain": [
              "count    1880.000000\n",
              "mean       17.887713\n",
              "std        55.607318\n",
              "min         0.016667\n",
              "25%         3.966667\n",
              "50%         8.083333\n",
              "75%        14.795833\n",
              "max      1004.166667\n",
              "Name: duration, dtype: float64"
            ]
          },
          "metadata": {
            "tags": []
          },
          "execution_count": 26
        }
      ]
    },
    {
      "cell_type": "markdown",
      "metadata": {
        "id": "XRBkwG6nVT7j",
        "colab_type": "text"
      },
      "source": [
        "From boxplot we can see that the duration is not normally distributed"
      ]
    },
    {
      "cell_type": "code",
      "metadata": {
        "id": "GNC7IfodUO70",
        "colab_type": "code",
        "outputId": "326e1f32-9c94-4edb-f254-714ee9764e17",
        "colab": {
          "base_uri": "https://localhost:8080/",
          "height": 265
        }
      },
      "source": [
        "plt.boxplot(aggregated_data['duration']);"
      ],
      "execution_count": 27,
      "outputs": [
        {
          "output_type": "display_data",
          "data": {
            "image/png": "[encoded data removed]",
            "text/plain": [
              "<Figure size 432x288 with 1 Axes>"
            ]
          },
          "metadata": {
            "tags": []
          }
        }
      ]
    },
    {
      "cell_type": "markdown",
      "metadata": {
        "id": "Rpx96iVEOfY_",
        "colab_type": "text"
      },
      "source": [
        "Pick-up Longitude and Latitude of San Francisco"
      ]
    },
    {
      "cell_type": "code",
      "metadata": {
        "id": "Fqd1zXGPK5i1",
        "colab_type": "code",
        "outputId": "005294d4-7d5a-4228-f0ae-b0660a309925",
        "colab": {
          "base_uri": "https://localhost:8080/",
          "height": 621
        }
      },
      "source": [
        "city_long_border = (aggregated_data['start_longitude'].min(), aggregated_data['start_longitude'].max())\n",
        "city_lat_border = (aggregated_data['start_latitude'].min(), aggregated_data['start_latitude'].max())\n",
        "plt.figure(figsize=(8,10))\n",
        "plt.scatter(aggregated_data['start_longitude'].values, aggregated_data['start_latitude'].values,\n",
        "              color='blue', s=1, alpha=0.1)\n",
        "plt.title('Pick-up Longitude and Latitude')\n",
        "plt.ylabel('latitude')\n",
        "plt.xlabel('longitude')\n",
        "plt.ylim(city_lat_border)\n",
        "plt.xlim(city_long_border)\n",
        "plt.show()"
      ],
      "execution_count": 28,
      "outputs": [
        {
          "output_type": "display_data",
          "data": {
            "image/png": "[encoded data removed]",
            "text/plain": [
              "<Figure size 576x720 with 1 Axes>"
            ]
          },
          "metadata": {
            "tags": []
          }
        }
      ]
    },
    {
      "cell_type": "code",
      "metadata": {
        "id": "YPh4wyXvBgxs",
        "colab_type": "code",
        "outputId": "4033d28a-6599-4b1c-b759-d17598fb8cc7",
        "colab": {
          "base_uri": "https://localhost:8080/",
          "height": 530
        }
      },
      "source": [
        "aggregated_data.head()"
      ],
      "execution_count": 29,
      "outputs": [
        {
          "output_type": "execute_result",
          "data": {
            "text/html": [
              "<div>\n",
              "<style scoped>\n",
              "    .dataframe tbody tr th:only-of-type {\n",
              "        vertical-align: middle;\n",
              "    }\n",
              "\n",
              "    .dataframe tbody tr th {\n",
              "        vertical-align: top;\n",
              "    }\n",
              "\n",
              "    .dataframe thead th {\n",
              "        text-align: right;\n",
              "    }\n",
              "</style>\n",
              "<table border=\"1\" class=\"dataframe\">\n",
              "  <thead>\n",
              "    <tr style=\"text-align: right;\">\n",
              "      <th></th>\n",
              "      <th>taxi_id</th>\n",
              "      <th>distance</th>\n",
              "      <th>duration</th>\n",
              "      <th>start_longitude</th>\n",
              "      <th>start_latitude</th>\n",
              "      <th>end_longitude</th>\n",
              "      <th>end_latitude</th>\n",
              "      <th>occupancy</th>\n",
              "      <th>start_time</th>\n",
              "      <th>end_time</th>\n",
              "      <th>No. of Waypoints</th>\n",
              "      <th>emission</th>\n",
              "    </tr>\n",
              "    <tr>\n",
              "      <th>trip_id</th>\n",
              "      <th></th>\n",
              "      <th></th>\n",
              "      <th></th>\n",
              "      <th></th>\n",
              "      <th></th>\n",
              "      <th></th>\n",
              "      <th></th>\n",
              "      <th></th>\n",
              "      <th></th>\n",
              "      <th></th>\n",
              "      <th></th>\n",
              "      <th></th>\n",
              "    </tr>\n",
              "  </thead>\n",
              "  <tbody>\n",
              "    <tr>\n",
              "      <th>0001e4d0-e053-4dda-9e0a-d2f042f122ae</th>\n",
              "      <td>new_auctjir</td>\n",
              "      <td>1.292630</td>\n",
              "      <td>6.166667</td>\n",
              "      <td>-122.39634</td>\n",
              "      <td>37.78547</td>\n",
              "      <td>-122.39538</td>\n",
              "      <td>37.77670</td>\n",
              "      <td>0</td>\n",
              "      <td>2008-06-09 16:40:27</td>\n",
              "      <td>2008-06-09 16:46:29</td>\n",
              "      <td>7</td>\n",
              "      <td>324.300111</td>\n",
              "    </tr>\n",
              "    <tr>\n",
              "      <th>002086e7-1f87-4262-bf20-3a401aafcb86</th>\n",
              "      <td>new_auctjir</td>\n",
              "      <td>1.149832</td>\n",
              "      <td>37.683333</td>\n",
              "      <td>-122.38535</td>\n",
              "      <td>37.61778</td>\n",
              "      <td>-122.38729</td>\n",
              "      <td>37.61532</td>\n",
              "      <td>0</td>\n",
              "      <td>2008-06-08 21:46:01</td>\n",
              "      <td>2008-06-08 22:14:57</td>\n",
              "      <td>15</td>\n",
              "      <td>288.474556</td>\n",
              "    </tr>\n",
              "    <tr>\n",
              "      <th>00238d7a-0c1f-4c76-9301-603446a1e663</th>\n",
              "      <td>new_auctjir</td>\n",
              "      <td>15.314141</td>\n",
              "      <td>433.383333</td>\n",
              "      <td>-122.45403</td>\n",
              "      <td>37.70604</td>\n",
              "      <td>-122.46133</td>\n",
              "      <td>37.64635</td>\n",
              "      <td>0</td>\n",
              "      <td>2008-05-23 09:01:44</td>\n",
              "      <td>2008-05-23 09:33:09</td>\n",
              "      <td>36</td>\n",
              "      <td>3842.072948</td>\n",
              "    </tr>\n",
              "    <tr>\n",
              "      <th>008efe4f-a155-4853-a42f-43deb0243914</th>\n",
              "      <td>new_auctjir</td>\n",
              "      <td>0.006332</td>\n",
              "      <td>0.666667</td>\n",
              "      <td>-122.43810</td>\n",
              "      <td>37.77610</td>\n",
              "      <td>-122.43812</td>\n",
              "      <td>37.77609</td>\n",
              "      <td>1</td>\n",
              "      <td>2008-05-18 16:35:06</td>\n",
              "      <td>2008-05-18 16:35:39</td>\n",
              "      <td>2</td>\n",
              "      <td>1.588605</td>\n",
              "    </tr>\n",
              "    <tr>\n",
              "      <th>0154a2a8-5b29-4e22-9a84-9a58932212ec</th>\n",
              "      <td>new_auctjir</td>\n",
              "      <td>1.600678</td>\n",
              "      <td>6.050000</td>\n",
              "      <td>-122.49982</td>\n",
              "      <td>37.78504</td>\n",
              "      <td>-122.48674</td>\n",
              "      <td>37.77706</td>\n",
              "      <td>0</td>\n",
              "      <td>2008-05-18 17:36:38</td>\n",
              "      <td>2008-05-18 17:41:42</td>\n",
              "      <td>7</td>\n",
              "      <td>401.584442</td>\n",
              "    </tr>\n",
              "  </tbody>\n",
              "</table>\n",
              "</div>"
            ],
            "text/plain": [
              "                                          taxi_id  ...     emission\n",
              "trip_id                                            ...             \n",
              "0001e4d0-e053-4dda-9e0a-d2f042f122ae  new_auctjir  ...   324.300111\n",
              "002086e7-1f87-4262-bf20-3a401aafcb86  new_auctjir  ...   288.474556\n",
              "00238d7a-0c1f-4c76-9301-603446a1e663  new_auctjir  ...  3842.072948\n",
              "008efe4f-a155-4853-a42f-43deb0243914  new_auctjir  ...     1.588605\n",
              "0154a2a8-5b29-4e22-9a84-9a58932212ec  new_auctjir  ...   401.584442\n",
              "\n",
              "[5 rows x 12 columns]"
            ]
          },
          "metadata": {
            "tags": []
          },
          "execution_count": 29
        }
      ]
    },
    {
      "cell_type": "markdown",
      "metadata": {
        "id": "g5azuNmFDKU7",
        "colab_type": "text"
      },
      "source": [
        "### Missing values"
      ]
    },
    {
      "cell_type": "markdown",
      "metadata": {
        "id": "DUZAPmXFDGXX",
        "colab_type": "text"
      },
      "source": [
        "Knowing about missing values is important because they indicate how much we don’t know about our data. Making inferences based on just a few cases is often unwise. In addition, many modelling procedures break down when missing values are involved and the corresponding rows will either have to be removed completely or the values need to be estimated somehow.\n",
        "\n",
        "Here, we are in the fortunate position that our data is complete and there are no missing values:"
      ]
    },
    {
      "cell_type": "code",
      "metadata": {
        "id": "rDm5k3BmTKNp",
        "colab_type": "code",
        "outputId": "30ad18d0-6349-44b0-e623-2919c12120c3",
        "colab": {
          "base_uri": "https://localhost:8080/",
          "height": 191
        }
      },
      "source": [
        "print(data.isnull().sum())"
      ],
      "execution_count": 30,
      "outputs": [
        {
          "output_type": "stream",
          "text": [
            "latitude              0\n",
            "longitude             0\n",
            "occupancy             0\n",
            "time                  0\n",
            "taxi_id               0\n",
            "trip_id               0\n",
            "drop_off_latitude     0\n",
            "drop_off_longitude    0\n",
            "drop_off_time         0\n",
            "dtype: int64\n"
          ],
          "name": "stdout"
        }
      ]
    },
    {
      "cell_type": "markdown",
      "metadata": {
        "id": "rF80vbCZinVJ",
        "colab_type": "text"
      },
      "source": [
        "### Feature Addition"
      ]
    },
    {
      "cell_type": "code",
      "metadata": {
        "id": "Jn0ZI1UIJmcZ",
        "colab_type": "code",
        "colab": {}
      },
      "source": [
        "def add_datetime_features(df, date_time_column):\n",
        "    #Convert to datetime format\n",
        "    \n",
        "    df['hour'] = df[date_time_column].dt.hour\n",
        "    df['day'] = df[date_time_column].dt.day\n",
        "    df['weekday'] = df[date_time_column].dt.weekday\n",
        "    \n",
        "    return df\n",
        "\n",
        "df = add_datetime_features(aggregated_data, 'start_time')"
      ],
      "execution_count": 0,
      "outputs": []
    },
    {
      "cell_type": "code",
      "metadata": {
        "id": "P0ikkCD7M3Oo",
        "colab_type": "code",
        "colab": {}
      },
      "source": [
        "hour_bins = [-1, 5, 7, 10, 16, 21, 23]\n",
        "bin_names = ['late_night', 'morning', 'morning_peak', 'afternoon', 'evening', 'night']\n",
        "df['hour_type'] = pd.cut(df.hour, bins=hour_bins, labels=bin_names).cat.codes"
      ],
      "execution_count": 0,
      "outputs": []
    },
    {
      "cell_type": "code",
      "metadata": {
        "id": "P2y6YkkWjIAm",
        "colab_type": "code",
        "colab": {}
      },
      "source": [
        "df['speed'] = df['distance'] / (df['duration'] / 60) "
      ],
      "execution_count": 0,
      "outputs": []
    },
    {
      "cell_type": "code",
      "metadata": {
        "id": "GoSM0baiNVGp",
        "colab_type": "code",
        "colab": {}
      },
      "source": [
        "df = df.sort_values(by=['taxi_id', 'start_time'])\n",
        "df = df[df['occupancy'] == 1]"
      ],
      "execution_count": 0,
      "outputs": []
    },
    {
      "cell_type": "code",
      "metadata": {
        "id": "lQ075Qh4_BxG",
        "colab_type": "code",
        "colab": {
          "base_uri": "https://localhost:8080/",
          "height": 530
        },
        "outputId": "13f08171-77dd-411c-aecf-9262f0426c7c"
      },
      "source": [
        "df.head()"
      ],
      "execution_count": 49,
      "outputs": [
        {
          "output_type": "execute_result",
          "data": {
            "text/html": [
              "<div>\n",
              "<style scoped>\n",
              "    .dataframe tbody tr th:only-of-type {\n",
              "        vertical-align: middle;\n",
              "    }\n",
              "\n",
              "    .dataframe tbody tr th {\n",
              "        vertical-align: top;\n",
              "    }\n",
              "\n",
              "    .dataframe thead th {\n",
              "        text-align: right;\n",
              "    }\n",
              "</style>\n",
              "<table border=\"1\" class=\"dataframe\">\n",
              "  <thead>\n",
              "    <tr style=\"text-align: right;\">\n",
              "      <th></th>\n",
              "      <th>taxi_id</th>\n",
              "      <th>distance</th>\n",
              "      <th>duration</th>\n",
              "      <th>start_longitude</th>\n",
              "      <th>start_latitude</th>\n",
              "      <th>end_longitude</th>\n",
              "      <th>end_latitude</th>\n",
              "      <th>occupancy</th>\n",
              "      <th>start_time</th>\n",
              "      <th>end_time</th>\n",
              "      <th>No. of Waypoints</th>\n",
              "      <th>emission</th>\n",
              "      <th>hour</th>\n",
              "      <th>day</th>\n",
              "      <th>weekday</th>\n",
              "      <th>hour_type</th>\n",
              "      <th>speed</th>\n",
              "      <th>pickup_cluster</th>\n",
              "    </tr>\n",
              "    <tr>\n",
              "      <th>trip_id</th>\n",
              "      <th></th>\n",
              "      <th></th>\n",
              "      <th></th>\n",
              "      <th></th>\n",
              "      <th></th>\n",
              "      <th></th>\n",
              "      <th></th>\n",
              "      <th></th>\n",
              "      <th></th>\n",
              "      <th></th>\n",
              "      <th></th>\n",
              "      <th></th>\n",
              "      <th></th>\n",
              "      <th></th>\n",
              "      <th></th>\n",
              "      <th></th>\n",
              "      <th></th>\n",
              "      <th></th>\n",
              "    </tr>\n",
              "  </thead>\n",
              "  <tbody>\n",
              "    <tr>\n",
              "      <th>1b36ff61-7029-4ae3-936b-34d1787dcf0b</th>\n",
              "      <td>new_auctjir</td>\n",
              "      <td>1.116158</td>\n",
              "      <td>4.550000</td>\n",
              "      <td>-122.40628</td>\n",
              "      <td>37.78615</td>\n",
              "      <td>-122.40332</td>\n",
              "      <td>37.78821</td>\n",
              "      <td>1</td>\n",
              "      <td>2008-05-17 10:00:42</td>\n",
              "      <td>2008-05-17 10:05:09</td>\n",
              "      <td>6</td>\n",
              "      <td>280.026235</td>\n",
              "      <td>10</td>\n",
              "      <td>17</td>\n",
              "      <td>5</td>\n",
              "      <td>2</td>\n",
              "      <td>14.718570</td>\n",
              "      <td>18</td>\n",
              "    </tr>\n",
              "    <tr>\n",
              "      <th>060ba53b-8808-473b-be76-b2bcb84b15c6</th>\n",
              "      <td>new_auctjir</td>\n",
              "      <td>1.566277</td>\n",
              "      <td>4.833333</td>\n",
              "      <td>-122.40537</td>\n",
              "      <td>37.79752</td>\n",
              "      <td>-122.41969</td>\n",
              "      <td>37.80489</td>\n",
              "      <td>1</td>\n",
              "      <td>2008-05-17 10:07:45</td>\n",
              "      <td>2008-05-17 10:12:34</td>\n",
              "      <td>6</td>\n",
              "      <td>392.953718</td>\n",
              "      <td>10</td>\n",
              "      <td>17</td>\n",
              "      <td>5</td>\n",
              "      <td>2</td>\n",
              "      <td>19.443433</td>\n",
              "      <td>28</td>\n",
              "    </tr>\n",
              "    <tr>\n",
              "      <th>32c9e7f5-fdb3-4293-89db-2e892838cb30</th>\n",
              "      <td>new_auctjir</td>\n",
              "      <td>10.718438</td>\n",
              "      <td>18.200000</td>\n",
              "      <td>-122.41817</td>\n",
              "      <td>37.80609</td>\n",
              "      <td>-122.46640</td>\n",
              "      <td>37.76566</td>\n",
              "      <td>1</td>\n",
              "      <td>2008-05-17 10:15:42</td>\n",
              "      <td>2008-05-17 10:33:52</td>\n",
              "      <td>20</td>\n",
              "      <td>2689.084486</td>\n",
              "      <td>10</td>\n",
              "      <td>17</td>\n",
              "      <td>5</td>\n",
              "      <td>2</td>\n",
              "      <td>35.335508</td>\n",
              "      <td>11</td>\n",
              "    </tr>\n",
              "    <tr>\n",
              "      <th>5c72909a-086e-43b4-8e74-36e3bf3ec30e</th>\n",
              "      <td>new_auctjir</td>\n",
              "      <td>0.001112</td>\n",
              "      <td>0.016667</td>\n",
              "      <td>-122.47202</td>\n",
              "      <td>37.71512</td>\n",
              "      <td>-122.47202</td>\n",
              "      <td>37.71512</td>\n",
              "      <td>1</td>\n",
              "      <td>2008-05-17 10:47:15</td>\n",
              "      <td>2008-05-17 10:47:15</td>\n",
              "      <td>1</td>\n",
              "      <td>0.278970</td>\n",
              "      <td>10</td>\n",
              "      <td>17</td>\n",
              "      <td>5</td>\n",
              "      <td>2</td>\n",
              "      <td>4.003017</td>\n",
              "      <td>26</td>\n",
              "    </tr>\n",
              "    <tr>\n",
              "      <th>920908ae-a20f-4131-bda8-addd765dc632</th>\n",
              "      <td>new_auctjir</td>\n",
              "      <td>0.091218</td>\n",
              "      <td>0.066667</td>\n",
              "      <td>-122.47129</td>\n",
              "      <td>37.71188</td>\n",
              "      <td>-122.47129</td>\n",
              "      <td>37.71188</td>\n",
              "      <td>1</td>\n",
              "      <td>2008-05-17 10:47:31</td>\n",
              "      <td>2008-05-17 10:47:31</td>\n",
              "      <td>1</td>\n",
              "      <td>22.885142</td>\n",
              "      <td>10</td>\n",
              "      <td>17</td>\n",
              "      <td>5</td>\n",
              "      <td>2</td>\n",
              "      <td>82.096220</td>\n",
              "      <td>26</td>\n",
              "    </tr>\n",
              "  </tbody>\n",
              "</table>\n",
              "</div>"
            ],
            "text/plain": [
              "                                          taxi_id  ...  pickup_cluster\n",
              "trip_id                                            ...                \n",
              "1b36ff61-7029-4ae3-936b-34d1787dcf0b  new_auctjir  ...              18\n",
              "060ba53b-8808-473b-be76-b2bcb84b15c6  new_auctjir  ...              28\n",
              "32c9e7f5-fdb3-4293-89db-2e892838cb30  new_auctjir  ...              11\n",
              "5c72909a-086e-43b4-8e74-36e3bf3ec30e  new_auctjir  ...              26\n",
              "920908ae-a20f-4131-bda8-addd765dc632  new_auctjir  ...              26\n",
              "\n",
              "[5 rows x 18 columns]"
            ]
          },
          "metadata": {
            "tags": []
          },
          "execution_count": 49
        }
      ]
    },
    {
      "cell_type": "markdown",
      "metadata": {
        "id": "TriN2ne_jON1",
        "colab_type": "text"
      },
      "source": [
        "#### Outlier removal\n",
        "\n"
      ]
    },
    {
      "cell_type": "code",
      "metadata": {
        "id": "l5N4O1FmjhqP",
        "colab_type": "code",
        "outputId": "1a360d7a-bbe2-4359-e7ca-030742e95bc1",
        "colab": {
          "base_uri": "https://localhost:8080/",
          "height": 52
        }
      },
      "source": [
        "print(len(df))\n",
        "df = df[df['speed'] <= 300]\n",
        "print(len(df))"
      ],
      "execution_count": 50,
      "outputs": [
        {
          "output_type": "stream",
          "text": [
            "939\n",
            "939\n"
          ],
          "name": "stdout"
        }
      ]
    },
    {
      "cell_type": "markdown",
      "metadata": {
        "id": "j3R79m1rkB0J",
        "colab_type": "text"
      },
      "source": [
        "## Clustering"
      ]
    },
    {
      "cell_type": "markdown",
      "metadata": {
        "id": "zTFOrZPSqWph",
        "colab_type": "text"
      },
      "source": [
        "### K-means clustering"
      ]
    },
    {
      "cell_type": "markdown",
      "metadata": {
        "id": "QrebwCpEY-4c",
        "colab_type": "text"
      },
      "source": [
        "Determining the optimal number of clusters\n"
      ]
    },
    {
      "cell_type": "code",
      "metadata": {
        "id": "EJeK-xmFSwP4",
        "colab_type": "code",
        "colab": {}
      },
      "source": [
        "coords = df[['start_latitude', 'start_longitude']].values"
      ],
      "execution_count": 0,
      "outputs": []
    },
    {
      "cell_type": "markdown",
      "metadata": {
        "id": "sBownoywZQZH",
        "colab_type": "text"
      },
      "source": [
        "Silhouette score for different values of K"
      ]
    },
    {
      "cell_type": "code",
      "metadata": {
        "id": "IKOBJ90BQNaO",
        "colab_type": "code",
        "colab": {}
      },
      "source": [
        "s_score = []\n",
        "for i in range(2,40):\n",
        "  km1 = MiniBatchKMeans(n_clusters=i, batch_size=1000 , random_state = 1).fit(coords)\n",
        "  score = silhouette_score(X = coords, labels = km1.labels_)\n",
        "  s_score = np.append(s_score, score)"
      ],
      "execution_count": 0,
      "outputs": []
    },
    {
      "cell_type": "code",
      "metadata": {
        "id": "o0__DW-AaFyC",
        "colab_type": "code",
        "outputId": "f7df4183-b10d-451e-ebd0-e393eb6790cd",
        "colab": {
          "base_uri": "https://localhost:8080/",
          "height": 281
        }
      },
      "source": [
        "plt.plot(range(2,40), s_score, 'bx-')\n",
        "plt.title('Elbow plot for Silhouette score');"
      ],
      "execution_count": 53,
      "outputs": [
        {
          "output_type": "display_data",
          "data": {
            "image/png": "[encoded data removed]",
            "text/plain": [
              "<Figure size 432x288 with 1 Axes>"
            ]
          },
          "metadata": {
            "tags": []
          }
        }
      ]
    },
    {
      "cell_type": "markdown",
      "metadata": {
        "id": "dD7vo0rdaQ5d",
        "colab_type": "text"
      },
      "source": [
        "We can choose 35 clusters for our task, since silhouette score is remaining the same after that cluster"
      ]
    },
    {
      "cell_type": "code",
      "metadata": {
        "id": "6mguYCEcarOx",
        "colab_type": "code",
        "colab": {}
      },
      "source": [
        "kmeans = MiniBatchKMeans(n_clusters=35, batch_size=1000, random_state=1).fit(coords)\n",
        "df['pickup_cluster'] = kmeans.predict(coords)"
      ],
      "execution_count": 0,
      "outputs": []
    },
    {
      "cell_type": "code",
      "metadata": {
        "id": "sWkktJA1WpIj",
        "colab_type": "code",
        "colab": {}
      },
      "source": [
        "cluster_centers = kmeans.cluster_centers_\n",
        "cluster_len = len(cluster_centers)"
      ],
      "execution_count": 0,
      "outputs": []
    },
    {
      "cell_type": "code",
      "metadata": {
        "id": "DFR9Fom-Wz1K",
        "colab_type": "code",
        "outputId": "5d41fd60-d4e4-4891-e56f-6361fb3657f6",
        "colab": {
          "base_uri": "https://localhost:8080/",
          "height": 35
        }
      },
      "source": [
        "cluster_len"
      ],
      "execution_count": 57,
      "outputs": [
        {
          "output_type": "execute_result",
          "data": {
            "text/plain": [
              "35"
            ]
          },
          "metadata": {
            "tags": []
          },
          "execution_count": 57
        }
      ]
    },
    {
      "cell_type": "markdown",
      "metadata": {
        "id": "NH45NLLicV2H",
        "colab_type": "text"
      },
      "source": [
        "Map based on clusters"
      ]
    },
    {
      "cell_type": "code",
      "metadata": {
        "id": "xsrImMKpXiBj",
        "colab_type": "code",
        "outputId": "a2c35e9d-5e8c-4ce3-b699-4718dac829fd",
        "colab": {
          "base_uri": "https://localhost:8080/",
          "height": 606
        }
      },
      "source": [
        "plt.figure(figsize=(8,10))\n",
        "plt.scatter(df['start_longitude'].values, df['start_latitude'].values, s=10, lw=0,\n",
        "           c=df['pickup_cluster'].values, alpha=0.2)\n",
        "plt.xlim(city_long_border)\n",
        "plt.ylim(city_lat_border)\n",
        "plt.xlabel('Longitude')\n",
        "plt.ylabel('Latitude')\n",
        "plt.show()"
      ],
      "execution_count": 58,
      "outputs": [
        {
          "output_type": "display_data",
          "data": {
            "image/png": "[encoded data removed]",
            "text/plain": [
              "<Figure size 576x720 with 1 Axes>"
            ]
          },
          "metadata": {
            "tags": []
          }
        }
      ]
    },
    {
      "cell_type": "code",
      "metadata": {
        "id": "_b5WRG5UCHC_",
        "colab_type": "code",
        "colab": {}
      },
      "source": [
        "# saving our result df to csv\n",
        "# df.to_csv('/content/drive/My Drive/Colab Notebooks/data.csv')\n",
        "# data = pd.read_csv('/content/drive/My Drive/Colab Notebooks/data.csv')\n",
        "# data.head()"
      ],
      "execution_count": 0,
      "outputs": []
    },
    {
      "cell_type": "markdown",
      "metadata": {
        "id": "72o5fBZrkS-1",
        "colab_type": "text"
      },
      "source": [
        "## Modeling"
      ]
    },
    {
      "cell_type": "markdown",
      "metadata": {
        "id": "jUiadipAqc9l",
        "colab_type": "text"
      },
      "source": [
        "### Multivariate Regression and XGBoost"
      ]
    },
    {
      "cell_type": "code",
      "metadata": {
        "id": "utDnJZS1bNg8",
        "colab_type": "code",
        "outputId": "40948399-d140-42c1-ccc0-8a4ee74f8f99",
        "colab": {
          "base_uri": "https://localhost:8080/",
          "height": 530
        }
      },
      "source": [
        "df.head()"
      ],
      "execution_count": 59,
      "outputs": [
        {
          "output_type": "execute_result",
          "data": {
            "text/html": [
              "<div>\n",
              "<style scoped>\n",
              "    .dataframe tbody tr th:only-of-type {\n",
              "        vertical-align: middle;\n",
              "    }\n",
              "\n",
              "    .dataframe tbody tr th {\n",
              "        vertical-align: top;\n",
              "    }\n",
              "\n",
              "    .dataframe thead th {\n",
              "        text-align: right;\n",
              "    }\n",
              "</style>\n",
              "<table border=\"1\" class=\"dataframe\">\n",
              "  <thead>\n",
              "    <tr style=\"text-align: right;\">\n",
              "      <th></th>\n",
              "      <th>taxi_id</th>\n",
              "      <th>distance</th>\n",
              "      <th>duration</th>\n",
              "      <th>start_longitude</th>\n",
              "      <th>start_latitude</th>\n",
              "      <th>end_longitude</th>\n",
              "      <th>end_latitude</th>\n",
              "      <th>occupancy</th>\n",
              "      <th>start_time</th>\n",
              "      <th>end_time</th>\n",
              "      <th>No. of Waypoints</th>\n",
              "      <th>emission</th>\n",
              "      <th>hour</th>\n",
              "      <th>day</th>\n",
              "      <th>weekday</th>\n",
              "      <th>hour_type</th>\n",
              "      <th>speed</th>\n",
              "      <th>pickup_cluster</th>\n",
              "    </tr>\n",
              "    <tr>\n",
              "      <th>trip_id</th>\n",
              "      <th></th>\n",
              "      <th></th>\n",
              "      <th></th>\n",
              "      <th></th>\n",
              "      <th></th>\n",
              "      <th></th>\n",
              "      <th></th>\n",
              "      <th></th>\n",
              "      <th></th>\n",
              "      <th></th>\n",
              "      <th></th>\n",
              "      <th></th>\n",
              "      <th></th>\n",
              "      <th></th>\n",
              "      <th></th>\n",
              "      <th></th>\n",
              "      <th></th>\n",
              "      <th></th>\n",
              "    </tr>\n",
              "  </thead>\n",
              "  <tbody>\n",
              "    <tr>\n",
              "      <th>1b36ff61-7029-4ae3-936b-34d1787dcf0b</th>\n",
              "      <td>new_auctjir</td>\n",
              "      <td>1.116158</td>\n",
              "      <td>4.550000</td>\n",
              "      <td>-122.40628</td>\n",
              "      <td>37.78615</td>\n",
              "      <td>-122.40332</td>\n",
              "      <td>37.78821</td>\n",
              "      <td>1</td>\n",
              "      <td>2008-05-17 10:00:42</td>\n",
              "      <td>2008-05-17 10:05:09</td>\n",
              "      <td>6</td>\n",
              "      <td>280.026235</td>\n",
              "      <td>10</td>\n",
              "      <td>17</td>\n",
              "      <td>5</td>\n",
              "      <td>2</td>\n",
              "      <td>14.718570</td>\n",
              "      <td>18</td>\n",
              "    </tr>\n",
              "    <tr>\n",
              "      <th>060ba53b-8808-473b-be76-b2bcb84b15c6</th>\n",
              "      <td>new_auctjir</td>\n",
              "      <td>1.566277</td>\n",
              "      <td>4.833333</td>\n",
              "      <td>-122.40537</td>\n",
              "      <td>37.79752</td>\n",
              "      <td>-122.41969</td>\n",
              "      <td>37.80489</td>\n",
              "      <td>1</td>\n",
              "      <td>2008-05-17 10:07:45</td>\n",
              "      <td>2008-05-17 10:12:34</td>\n",
              "      <td>6</td>\n",
              "      <td>392.953718</td>\n",
              "      <td>10</td>\n",
              "      <td>17</td>\n",
              "      <td>5</td>\n",
              "      <td>2</td>\n",
              "      <td>19.443433</td>\n",
              "      <td>29</td>\n",
              "    </tr>\n",
              "    <tr>\n",
              "      <th>32c9e7f5-fdb3-4293-89db-2e892838cb30</th>\n",
              "      <td>new_auctjir</td>\n",
              "      <td>10.718438</td>\n",
              "      <td>18.200000</td>\n",
              "      <td>-122.41817</td>\n",
              "      <td>37.80609</td>\n",
              "      <td>-122.46640</td>\n",
              "      <td>37.76566</td>\n",
              "      <td>1</td>\n",
              "      <td>2008-05-17 10:15:42</td>\n",
              "      <td>2008-05-17 10:33:52</td>\n",
              "      <td>20</td>\n",
              "      <td>2689.084486</td>\n",
              "      <td>10</td>\n",
              "      <td>17</td>\n",
              "      <td>5</td>\n",
              "      <td>2</td>\n",
              "      <td>35.335508</td>\n",
              "      <td>0</td>\n",
              "    </tr>\n",
              "    <tr>\n",
              "      <th>5c72909a-086e-43b4-8e74-36e3bf3ec30e</th>\n",
              "      <td>new_auctjir</td>\n",
              "      <td>0.001112</td>\n",
              "      <td>0.016667</td>\n",
              "      <td>-122.47202</td>\n",
              "      <td>37.71512</td>\n",
              "      <td>-122.47202</td>\n",
              "      <td>37.71512</td>\n",
              "      <td>1</td>\n",
              "      <td>2008-05-17 10:47:15</td>\n",
              "      <td>2008-05-17 10:47:15</td>\n",
              "      <td>1</td>\n",
              "      <td>0.278970</td>\n",
              "      <td>10</td>\n",
              "      <td>17</td>\n",
              "      <td>5</td>\n",
              "      <td>2</td>\n",
              "      <td>4.003017</td>\n",
              "      <td>5</td>\n",
              "    </tr>\n",
              "    <tr>\n",
              "      <th>920908ae-a20f-4131-bda8-addd765dc632</th>\n",
              "      <td>new_auctjir</td>\n",
              "      <td>0.091218</td>\n",
              "      <td>0.066667</td>\n",
              "      <td>-122.47129</td>\n",
              "      <td>37.71188</td>\n",
              "      <td>-122.47129</td>\n",
              "      <td>37.71188</td>\n",
              "      <td>1</td>\n",
              "      <td>2008-05-17 10:47:31</td>\n",
              "      <td>2008-05-17 10:47:31</td>\n",
              "      <td>1</td>\n",
              "      <td>22.885142</td>\n",
              "      <td>10</td>\n",
              "      <td>17</td>\n",
              "      <td>5</td>\n",
              "      <td>2</td>\n",
              "      <td>82.096220</td>\n",
              "      <td>5</td>\n",
              "    </tr>\n",
              "  </tbody>\n",
              "</table>\n",
              "</div>"
            ],
            "text/plain": [
              "                                          taxi_id  ...  pickup_cluster\n",
              "trip_id                                            ...                \n",
              "1b36ff61-7029-4ae3-936b-34d1787dcf0b  new_auctjir  ...              18\n",
              "060ba53b-8808-473b-be76-b2bcb84b15c6  new_auctjir  ...              29\n",
              "32c9e7f5-fdb3-4293-89db-2e892838cb30  new_auctjir  ...               0\n",
              "5c72909a-086e-43b4-8e74-36e3bf3ec30e  new_auctjir  ...               5\n",
              "920908ae-a20f-4131-bda8-addd765dc632  new_auctjir  ...               5\n",
              "\n",
              "[5 rows x 18 columns]"
            ]
          },
          "metadata": {
            "tags": []
          },
          "execution_count": 59
        }
      ]
    },
    {
      "cell_type": "markdown",
      "metadata": {
        "id": "sJWOWIbKD4tU",
        "colab_type": "text"
      },
      "source": [
        "Defining target variables(pick-up latitude and pick-up longitude) and features. We have two target variables, it means we need to do multivariate analysis."
      ]
    },
    {
      "cell_type": "code",
      "metadata": {
        "id": "IWpmknV_AJN_",
        "colab_type": "code",
        "colab": {}
      },
      "source": [
        "X = df[['start_longitude', 'start_latitude', 'distance', 'duration', 'end_longitude', 'end_latitude', 'occupancy', 'hour', 'day', 'weekday', 'hour_type', 'pickup_cluster']][:-1]\n",
        "Y = df[['start_longitude', 'start_latitude']][1:]"
      ],
      "execution_count": 0,
      "outputs": []
    },
    {
      "cell_type": "code",
      "metadata": {
        "id": "0afAcews_5Jb",
        "colab_type": "code",
        "colab": {
          "base_uri": "https://localhost:8080/",
          "height": 52
        },
        "outputId": "716b9d26-66fc-412b-b5e4-7c27448429fe"
      },
      "source": [
        "print(len(X))\n",
        "print(len(Y))"
      ],
      "execution_count": 70,
      "outputs": [
        {
          "output_type": "stream",
          "text": [
            "938\n",
            "938\n"
          ],
          "name": "stdout"
        }
      ]
    },
    {
      "cell_type": "code",
      "metadata": {
        "id": "C1ci0e0vDhl4",
        "colab_type": "code",
        "colab": {}
      },
      "source": [
        "X_train, X_test = X[:int(len(X) * 0.7)], X[int(len(X) * 0.7):]\n",
        "y_train, y_test = Y[:int(len(X) * 0.7)], Y[int(len(X) * 0.7):]"
      ],
      "execution_count": 0,
      "outputs": []
    },
    {
      "cell_type": "markdown",
      "metadata": {
        "id": "wS83C4L4EhdZ",
        "colab_type": "text"
      },
      "source": [
        "#### Multivariate XgBoost"
      ]
    },
    {
      "cell_type": "code",
      "metadata": {
        "id": "qS5bdTkQEZN1",
        "colab_type": "code",
        "outputId": "59603bc9-3339-4b5e-8bff-f14f20686f24",
        "colab": {
          "base_uri": "https://localhost:8080/",
          "height": 52
        }
      },
      "source": [
        "multioutputregressor = MultiOutputRegressor(xgb.XGBRegressor(objective='reg:linear'))\n",
        "multioutputregressor.fit(X_train, y_train)\n",
        "y_pred_xg = multioutputregressor.predict(X_test)"
      ],
      "execution_count": 72,
      "outputs": [
        {
          "output_type": "stream",
          "text": [
            "[10:20:28] WARNING: /workspace/src/objective/regression_obj.cu:152: reg:linear is now deprecated in favor of reg:squarederror.\n",
            "[10:20:29] WARNING: /workspace/src/objective/regression_obj.cu:152: reg:linear is now deprecated in favor of reg:squarederror.\n"
          ],
          "name": "stdout"
        }
      ]
    },
    {
      "cell_type": "code",
      "metadata": {
        "id": "OXxuuxJgGgxy",
        "colab_type": "code",
        "outputId": "aa2ef889-65b7-4524-b5bd-9b86e9492543",
        "colab": {
          "base_uri": "https://localhost:8080/",
          "height": 35
        }
      },
      "source": [
        "mean_squared_error(y_test, y_pred_xg)"
      ],
      "execution_count": 73,
      "outputs": [
        {
          "output_type": "execute_result",
          "data": {
            "text/plain": [
              "0.0008145592681633191"
            ]
          },
          "metadata": {
            "tags": []
          },
          "execution_count": 73
        }
      ]
    },
    {
      "cell_type": "markdown",
      "metadata": {
        "id": "jRsJdBlzJfRM",
        "colab_type": "text"
      },
      "source": [
        "##### Feature Importance for 2 estimators"
      ]
    },
    {
      "cell_type": "code",
      "metadata": {
        "id": "VRBW4lctLP_b",
        "colab_type": "code",
        "colab": {}
      },
      "source": [
        "importance_longitude = multioutputregressor.estimators_[0].feature_importances_\n",
        "importance_latitude = multioutputregressor.estimators_[1].feature_importances_"
      ],
      "execution_count": 0,
      "outputs": []
    },
    {
      "cell_type": "markdown",
      "metadata": {
        "id": "95YEC8SxPp3p",
        "colab_type": "text"
      },
      "source": [
        "###### Feature Importance for Longitude"
      ]
    },
    {
      "cell_type": "code",
      "metadata": {
        "id": "OgYDjrbVLme2",
        "colab_type": "code",
        "outputId": "3ad8c220-c933-4021-e1e0-d4d20d3e0854",
        "colab": {
          "base_uri": "https://localhost:8080/",
          "height": 561
        }
      },
      "source": [
        "indices = np.argsort(importance_longitude)[::-1]\n",
        "# Plot the feature importancies of the multivariate xgBoost\n",
        "num_to_plot = X.columns.shape[0]\n",
        "feature_indices = [ind+1 for ind in indices[:num_to_plot]]\n",
        "\n",
        "# Print the feature ranking\n",
        "print(\"Feature ranking:\")\n",
        "  \n",
        "for f in range(num_to_plot):\n",
        "    print(f\"{X.columns[feature_indices[f]-1]}: {importance_longitude[indices[f]]}\")\n",
        "plt.figure(figsize=(15,5))\n",
        "plt.title(u\"Feature Importance for Longitude\")\n",
        "bars = plt.bar(range(num_to_plot), \n",
        "               importance_longitude[indices[:num_to_plot]],\n",
        "       color=([str(i/float(num_to_plot+1)) \n",
        "               for i in range(num_to_plot)]),\n",
        "               align=\"center\")\n",
        "ticks = plt.xticks(range(num_to_plot), \n",
        "                   feature_indices)\n",
        "# plt.xlim([-1, num_to_plot])\n",
        "plt.legend(bars, [u''.join(X.columns[i-1]) \n",
        "                  for i in feature_indices]);"
      ],
      "execution_count": 75,
      "outputs": [
        {
          "output_type": "stream",
          "text": [
            "Feature ranking:\n",
            "end_longitude: 0.20129919052124023\n",
            "day: 0.15912142395973206\n",
            "distance: 0.13024599850177765\n",
            "hour: 0.11980589479207993\n",
            "pickup_cluster: 0.08708743751049042\n",
            "end_latitude: 0.07267988473176956\n",
            "duration: 0.07132823765277863\n",
            "start_longitude: 0.06168340891599655\n",
            "weekday: 0.054373908787965775\n",
            "start_latitude: 0.04237457364797592\n",
            "hour_type: 0.0\n",
            "occupancy: 0.0\n"
          ],
          "name": "stdout"
        },
        {
          "output_type": "display_data",
          "data": {
            "image/png": "[encoded data removed]",
            "text/plain": [
              "<Figure size 1080x360 with 1 Axes>"
            ]
          },
          "metadata": {
            "tags": []
          }
        }
      ]
    },
    {
      "cell_type": "markdown",
      "metadata": {
        "id": "g_DAQoTHP0Sr",
        "colab_type": "text"
      },
      "source": [
        "###### Feature Importance for Latitude"
      ]
    },
    {
      "cell_type": "code",
      "metadata": {
        "id": "LWVOiLy8Ps_h",
        "colab_type": "code",
        "outputId": "f3ebc59d-9f80-4542-c71d-5141eeee6d8e",
        "colab": {
          "base_uri": "https://localhost:8080/",
          "height": 561
        }
      },
      "source": [
        "indices = np.argsort(importance_latitude)[::-1]\n",
        "# Plot the feature importancies of the multivariate xgBoost\n",
        "num_to_plot = X.columns.shape[0]\n",
        "feature_indices = [ind+1 for ind in indices[:num_to_plot]]\n",
        "\n",
        "# Print the feature ranking\n",
        "print(\"Feature ranking:\")\n",
        "  \n",
        "for f in range(num_to_plot):\n",
        "    print(f\"{X.columns[feature_indices[f]-1]}: {importance_latitude[indices[f]]}\")\n",
        "plt.figure(figsize=(15,5))\n",
        "plt.title(u\"Feature Importance for Latitude\")\n",
        "bars = plt.bar(range(num_to_plot), \n",
        "               importance_latitude[indices[:num_to_plot]],\n",
        "       color=([str(i/float(num_to_plot+1)) \n",
        "               for i in range(num_to_plot)]),\n",
        "               align=\"center\")\n",
        "ticks = plt.xticks(range(num_to_plot), \n",
        "                   feature_indices)\n",
        "# plt.xlim([-1, num_to_plot])\n",
        "plt.legend(bars, [u''.join(X.columns[i-1]) \n",
        "                  for i in feature_indices]);"
      ],
      "execution_count": 76,
      "outputs": [
        {
          "output_type": "stream",
          "text": [
            "Feature ranking:\n",
            "end_latitude: 0.16695348918437958\n",
            "weekday: 0.12837067246437073\n",
            "hour: 0.12492431700229645\n",
            "duration: 0.10209932178258896\n",
            "day: 0.09466691315174103\n",
            "pickup_cluster: 0.09143248945474625\n",
            "start_latitude: 0.08974113315343857\n",
            "distance: 0.07658576220273972\n",
            "start_longitude: 0.06276173144578934\n",
            "end_longitude: 0.06246413290500641\n",
            "hour_type: 0.0\n",
            "occupancy: 0.0\n"
          ],
          "name": "stdout"
        },
        {
          "output_type": "display_data",
          "data": {
            "image/png": "[encoded data removed]",
            "text/plain": [
              "<Figure size 1080x360 with 1 Axes>"
            ]
          },
          "metadata": {
            "tags": []
          }
        }
      ]
    },
    {
      "cell_type": "markdown",
      "metadata": {
        "id": "XrZO0_cDHr9p",
        "colab_type": "text"
      },
      "source": [
        "#### Multivariate Linear Regression"
      ]
    },
    {
      "cell_type": "code",
      "metadata": {
        "id": "OsFG3dsVGYeX",
        "colab_type": "code",
        "outputId": "45616026-f616-42e4-bf76-8142c79e30e3",
        "colab": {
          "base_uri": "https://localhost:8080/",
          "height": 35
        }
      },
      "source": [
        "multioutput_lr = MultiOutputRegressor(LinearRegression())\n",
        "multioutput_lr.fit(X_train, y_train)\n",
        "y_pred_lr = multioutput_lr.predict(X_test)\n",
        "print('Mean squared error', mean_squared_error(y_test, y_pred_lr))"
      ],
      "execution_count": 77,
      "outputs": [
        {
          "output_type": "stream",
          "text": [
            "Mean squared error 0.0008204498336009008\n"
          ],
          "name": "stdout"
        }
      ]
    },
    {
      "cell_type": "markdown",
      "metadata": {
        "id": "L23lRyHBRFzm",
        "colab_type": "text"
      },
      "source": [
        "Coefficients for 2 target variables"
      ]
    },
    {
      "cell_type": "code",
      "metadata": {
        "id": "wJ919xw-GZiX",
        "colab_type": "code",
        "outputId": "9141eb7d-f00d-4ac1-c87e-2893b6013a72",
        "colab": {
          "base_uri": "https://localhost:8080/",
          "height": 69
        }
      },
      "source": [
        "multioutput_lr.estimators_[0].coef_"
      ],
      "execution_count": 78,
      "outputs": [
        {
          "output_type": "execute_result",
          "data": {
            "text/plain": [
              "array([ 9.39876217e-02, -2.74916552e-02, -1.86258884e-04, -2.16549609e-04,\n",
              "        3.29188968e-01,  1.62603600e-02, -2.25687524e-15,  1.36439048e-03,\n",
              "       -1.54973351e-05, -7.27427113e-04, -5.60685818e-03, -5.47176894e-06])"
            ]
          },
          "metadata": {
            "tags": []
          },
          "execution_count": 78
        }
      ]
    },
    {
      "cell_type": "code",
      "metadata": {
        "id": "RepczEsAQxHz",
        "colab_type": "code",
        "outputId": "f9945352-e138-45ee-a38a-f0732a5421a2",
        "colab": {
          "base_uri": "https://localhost:8080/",
          "height": 69
        }
      },
      "source": [
        "multioutput_lr.estimators_[1].coef_"
      ],
      "execution_count": 79,
      "outputs": [
        {
          "output_type": "execute_result",
          "data": {
            "text/plain": [
              "array([-1.34215961e-01,  1.63250153e-01,  4.25429906e-04, -2.43703013e-04,\n",
              "        4.38524847e-02,  6.08673879e-01,  1.00613962e-16, -1.62510594e-03,\n",
              "        1.31461178e-04,  1.91001051e-03,  5.63383322e-03,  1.22748642e-04])"
            ]
          },
          "metadata": {
            "tags": []
          },
          "execution_count": 79
        }
      ]
    },
    {
      "cell_type": "markdown",
      "metadata": {
        "id": "0PmZYvqThN9i",
        "colab_type": "text"
      },
      "source": [
        "### Time Series prediction Model (in devolopment)"
      ]
    },
    {
      "cell_type": "markdown",
      "metadata": {
        "id": "cV9kAYWrhepi",
        "colab_type": "text"
      },
      "source": [
        "Given a region and a 10 min interval, we have to predict pickups.\n",
        "\n",
        "(a): How to break up the San Francisco into regions?\n",
        "\n",
        "(b): Every region of San Francisco has to be broken up into 10 min interval.\n",
        "\n",
        "Now, every row pickup has longitude and latitude in it, and we will use this to define pickup regions.\n",
        "We already know, about the pickup at time ‘t’, we will predict the pickup at time ‘t+1’ in the same region. Hence, this problem can be thought of as a ‘*Time Series Prediction*’ problem. It is a special case of regression problems. In short, we will use the data at time ‘t’ to predict for time ‘t+1’."
      ]
    },
    {
      "cell_type": "code",
      "metadata": {
        "id": "XUVFnB77DqmV",
        "colab_type": "code",
        "colab": {}
      },
      "source": [
        ""
      ],
      "execution_count": 0,
      "outputs": []
    }
  ]
}